{
 "cells": [
  {
   "cell_type": "code",
   "execution_count": 29,
   "metadata": {
    "collapsed": true
   },
   "outputs": [],
   "source": [
    "import pandas as pd\n",
    "import re\n",
    "import nltk\n",
    "from collections import Counter"
   ]
  },
  {
   "cell_type": "code",
   "execution_count": 94,
   "outputs": [
    {
     "data": {
      "text/plain": "     position           title                               artist  year  \\\n0           1      God's Plan                                Drake  2018   \n1           2       I Like It        Cardi B, Bad Bunny & J Balvin  2018   \n2           3  In My Feelings                                Drake  2018   \n3           4          Psycho  Post Malone Featuring Ty Dolla $ign  2018   \n4           5   Nice For What                                Drake  2018   \n..        ...             ...                                  ...   ...   \n245        46    Already Dead                           Juice WRLD  2022   \n246        47     Family Ties           Baby Keem & Kendrick Lamar  2022   \n247        48           Alone                             Rod Wave  2022   \n248        49          Plan B                  Megan Thee Stallion  2022   \n249        50  Billie Eilish.                         Armani White  2022   \n\n                                                Lyrics  \\\n0    And they wishin' and wishin' And wishin' and w...   \n1    Yeah, baby, I like it like that You gotta beli...   \n2    Trap, TrapMoneyBenny This shit got me in my fe...   \n3    Damn, my AP goin' psycho, lil' mama bad like M...   \n4    I wanna know who mothafuckin' representin' in ...   \n..                                                 ...   \n245  You can see the pain in my laugh (Yeah, yeah) ...   \n246  Jump in that— (Hah, Hah), summon that bitch Ju...   \n247  B Squared beats Oh (Oh-woah) Oh-woah Tell me w...   \n248  Who the fuck you think you talkin' to, nigga? ...   \n249  Bitch, I'm stylish Glock tucked, big t-shirt, ...   \n\n                   Primary Artists  \n0                            Drake  \n1    Cardi B, Bad Bunny & J Balvin  \n2                            Drake  \n3                      Post Malone  \n4                            Drake  \n..                             ...  \n245                     Juice WRLD  \n246     Baby Keem & Kendrick Lamar  \n247                       Rod Wave  \n248            Megan Thee Stallion  \n249                   Armani White  \n\n[250 rows x 6 columns]",
      "text/html": "<div>\n<style scoped>\n    .dataframe tbody tr th:only-of-type {\n        vertical-align: middle;\n    }\n\n    .dataframe tbody tr th {\n        vertical-align: top;\n    }\n\n    .dataframe thead th {\n        text-align: right;\n    }\n</style>\n<table border=\"1\" class=\"dataframe\">\n  <thead>\n    <tr style=\"text-align: right;\">\n      <th></th>\n      <th>position</th>\n      <th>title</th>\n      <th>artist</th>\n      <th>year</th>\n      <th>Lyrics</th>\n      <th>Primary Artists</th>\n    </tr>\n  </thead>\n  <tbody>\n    <tr>\n      <th>0</th>\n      <td>1</td>\n      <td>God's Plan</td>\n      <td>Drake</td>\n      <td>2018</td>\n      <td>And they wishin' and wishin' And wishin' and w...</td>\n      <td>Drake</td>\n    </tr>\n    <tr>\n      <th>1</th>\n      <td>2</td>\n      <td>I Like It</td>\n      <td>Cardi B, Bad Bunny &amp; J Balvin</td>\n      <td>2018</td>\n      <td>Yeah, baby, I like it like that You gotta beli...</td>\n      <td>Cardi B, Bad Bunny &amp; J Balvin</td>\n    </tr>\n    <tr>\n      <th>2</th>\n      <td>3</td>\n      <td>In My Feelings</td>\n      <td>Drake</td>\n      <td>2018</td>\n      <td>Trap, TrapMoneyBenny This shit got me in my fe...</td>\n      <td>Drake</td>\n    </tr>\n    <tr>\n      <th>3</th>\n      <td>4</td>\n      <td>Psycho</td>\n      <td>Post Malone Featuring Ty Dolla $ign</td>\n      <td>2018</td>\n      <td>Damn, my AP goin' psycho, lil' mama bad like M...</td>\n      <td>Post Malone</td>\n    </tr>\n    <tr>\n      <th>4</th>\n      <td>5</td>\n      <td>Nice For What</td>\n      <td>Drake</td>\n      <td>2018</td>\n      <td>I wanna know who mothafuckin' representin' in ...</td>\n      <td>Drake</td>\n    </tr>\n    <tr>\n      <th>...</th>\n      <td>...</td>\n      <td>...</td>\n      <td>...</td>\n      <td>...</td>\n      <td>...</td>\n      <td>...</td>\n    </tr>\n    <tr>\n      <th>245</th>\n      <td>46</td>\n      <td>Already Dead</td>\n      <td>Juice WRLD</td>\n      <td>2022</td>\n      <td>You can see the pain in my laugh (Yeah, yeah) ...</td>\n      <td>Juice WRLD</td>\n    </tr>\n    <tr>\n      <th>246</th>\n      <td>47</td>\n      <td>Family Ties</td>\n      <td>Baby Keem &amp; Kendrick Lamar</td>\n      <td>2022</td>\n      <td>Jump in that— (Hah, Hah), summon that bitch Ju...</td>\n      <td>Baby Keem &amp; Kendrick Lamar</td>\n    </tr>\n    <tr>\n      <th>247</th>\n      <td>48</td>\n      <td>Alone</td>\n      <td>Rod Wave</td>\n      <td>2022</td>\n      <td>B Squared beats Oh (Oh-woah) Oh-woah Tell me w...</td>\n      <td>Rod Wave</td>\n    </tr>\n    <tr>\n      <th>248</th>\n      <td>49</td>\n      <td>Plan B</td>\n      <td>Megan Thee Stallion</td>\n      <td>2022</td>\n      <td>Who the fuck you think you talkin' to, nigga? ...</td>\n      <td>Megan Thee Stallion</td>\n    </tr>\n    <tr>\n      <th>249</th>\n      <td>50</td>\n      <td>Billie Eilish.</td>\n      <td>Armani White</td>\n      <td>2022</td>\n      <td>Bitch, I'm stylish Glock tucked, big t-shirt, ...</td>\n      <td>Armani White</td>\n    </tr>\n  </tbody>\n</table>\n<p>250 rows × 6 columns</p>\n</div>"
     },
     "execution_count": 94,
     "metadata": {},
     "output_type": "execute_result"
    }
   ],
   "source": [
    "# load data\n",
    "songs_data = pd.read_csv(\"data/top50_2018_2022.csv\")\n",
    "bad_words_data = pd.read_csv(\"data/bad-words.csv\")\n",
    "songs_data"
   ],
   "metadata": {
    "collapsed": false
   }
  },
  {
   "cell_type": "code",
   "execution_count": 95,
   "outputs": [],
   "source": [
    "# primary artists -> separate by comma\n",
    "songs_data[\"Primary Artists\"] = songs_data[\"Primary Artists\"].str.replace(\" & \",\",\")\n",
    "songs_data[\"Primary Artists\"] = songs_data[\"Primary Artists\"].str.replace(\", \", \",\")\n",
    "songs_data[\"Primary Artists\"] = songs_data[\"Primary Artists\"].str.split(\",\")"
   ],
   "metadata": {
    "collapsed": false
   }
  },
  {
   "cell_type": "code",
   "execution_count": 96,
   "outputs": [
    {
     "data": {
      "text/plain": "0                             [Drake]\n1      [Cardi B, Bad Bunny, J Balvin]\n2                             [Drake]\n3                       [Post Malone]\n4                             [Drake]\n                    ...              \n245                      [Juice WRLD]\n246       [Baby Keem, Kendrick Lamar]\n247                        [Rod Wave]\n248             [Megan Thee Stallion]\n249                    [Armani White]\nName: Primary Artists, Length: 250, dtype: object"
     },
     "execution_count": 96,
     "metadata": {},
     "output_type": "execute_result"
    }
   ],
   "source": [
    "songs_data[\"Primary Artists\"]"
   ],
   "metadata": {
    "collapsed": false
   }
  },
  {
   "cell_type": "code",
   "execution_count": 22,
   "outputs": [],
   "source": [
    "def preprocess_lyrics(lyrics):\n",
    "    # Remove punctuation\n",
    "    lyrics = re.sub('[^a-zA-Z0-9\\s]', '', lyrics)\n",
    "    # Convert to lowercase\n",
    "    lyrics = lyrics.lower()\n",
    "    # Tokenize into individual words\n",
    "    words = nltk.word_tokenize(lyrics)\n",
    "    return words"
   ],
   "metadata": {
    "collapsed": false
   }
  },
  {
   "cell_type": "code",
   "execution_count": 55,
   "outputs": [],
   "source": [
    "def word_list_to_df(words):\n",
    "    return pd.DataFrame.from_dict(Counter(used_words), orient=\"index\").reset_index()"
   ],
   "metadata": {
    "collapsed": false
   }
  },
  {
   "cell_type": "code",
   "execution_count": 57,
   "outputs": [],
   "source": [
    "# a table of ALL words (independent of any other variable)\n",
    "used_words = []\n",
    "for lyrics in songs_data[\"Lyrics\"]:\n",
    "    for word in preprocess_lyrics(lyrics):\n",
    "        used_words.append(word)\n",
    "\n",
    "all_words_df = word_list_to_df(used_words)"
   ],
   "metadata": {
    "collapsed": false
   }
  },
  {
   "cell_type": "code",
   "execution_count": 49,
   "outputs": [
    {
     "data": {
      "text/plain": "array([2018, 2019, 2020, 2021, 2022], dtype=int64)"
     },
     "execution_count": 49,
     "metadata": {},
     "output_type": "execute_result"
    }
   ],
   "source": [
    "songs_data[\"year\"].unique()"
   ],
   "metadata": {
    "collapsed": false
   }
  },
  {
   "cell_type": "code",
   "execution_count": 66,
   "outputs": [],
   "source": [
    "# a table of words FOR EACH year\n",
    "words_year_dfs = {}\n",
    "for year in songs_data[\"year\"].unique():\n",
    "    words_year_dfs[year] = []\n",
    "\n",
    "# combine all lyrics of a year\n",
    "year_lyrics_df = songs_data.groupby(\"year\")[\"Lyrics\"].apply(' '.join).reset_index()\n",
    "for year in words_year_dfs.keys():\n",
    "    lyrics_of_that_year = year_lyrics_df.loc[year_lyrics_df[\"year\"]==year, \"Lyrics\"].values[0]\n",
    "    words=preprocess_lyrics(lyrics_of_that_year)\n",
    "    words_year_dfs[year] = word_list_to_df(words)"
   ],
   "metadata": {
    "collapsed": false
   }
  },
  {
   "cell_type": "code",
   "execution_count": 68,
   "outputs": [
    {
     "data": {
      "text/plain": "          index     0\n0           and  1978\n1          they   912\n2        wishin    30\n3            on  1903\n4            me  2294\n...         ...   ...\n11243      mitt     1\n11244     kimbo     1\n11245      gen3     1\n11246   propped     1\n11247  pilotyou     1\n\n[11248 rows x 2 columns]",
      "text/html": "<div>\n<style scoped>\n    .dataframe tbody tr th:only-of-type {\n        vertical-align: middle;\n    }\n\n    .dataframe tbody tr th {\n        vertical-align: top;\n    }\n\n    .dataframe thead th {\n        text-align: right;\n    }\n</style>\n<table border=\"1\" class=\"dataframe\">\n  <thead>\n    <tr style=\"text-align: right;\">\n      <th></th>\n      <th>index</th>\n      <th>0</th>\n    </tr>\n  </thead>\n  <tbody>\n    <tr>\n      <th>0</th>\n      <td>and</td>\n      <td>1978</td>\n    </tr>\n    <tr>\n      <th>1</th>\n      <td>they</td>\n      <td>912</td>\n    </tr>\n    <tr>\n      <th>2</th>\n      <td>wishin</td>\n      <td>30</td>\n    </tr>\n    <tr>\n      <th>3</th>\n      <td>on</td>\n      <td>1903</td>\n    </tr>\n    <tr>\n      <th>4</th>\n      <td>me</td>\n      <td>2294</td>\n    </tr>\n    <tr>\n      <th>...</th>\n      <td>...</td>\n      <td>...</td>\n    </tr>\n    <tr>\n      <th>11243</th>\n      <td>mitt</td>\n      <td>1</td>\n    </tr>\n    <tr>\n      <th>11244</th>\n      <td>kimbo</td>\n      <td>1</td>\n    </tr>\n    <tr>\n      <th>11245</th>\n      <td>gen3</td>\n      <td>1</td>\n    </tr>\n    <tr>\n      <th>11246</th>\n      <td>propped</td>\n      <td>1</td>\n    </tr>\n    <tr>\n      <th>11247</th>\n      <td>pilotyou</td>\n      <td>1</td>\n    </tr>\n  </tbody>\n</table>\n<p>11248 rows × 2 columns</p>\n</div>"
     },
     "execution_count": 68,
     "metadata": {},
     "output_type": "execute_result"
    }
   ],
   "source": [
    "words_year_dfs[2020]"
   ],
   "metadata": {
    "collapsed": false
   }
  },
  {
   "cell_type": "code",
   "execution_count": 112,
   "outputs": [],
   "source": [
    "# a table of words FOR EACH primary artist\n",
    "words_artist_dfs = {}\n",
    "# if multiple primary artists: EXPLODE!! (means per duplicate row for each artist)\n",
    "exploded_songs_data = songs_data.explode('Primary Artists')\n",
    "for artist in exploded_songs_data[\"Primary Artists\"].unique():\n",
    "    words_artist_dfs[artist] = []\n",
    "\n",
    "# combine all lyrics of an artist\n",
    "artist_lyrics_df = explored_songs_data.groupby(\"Primary Artists\")[\"Lyrics\"].apply(' '.join).reset_index()\n",
    "for artist in words_artist_dfs.keys():\n",
    "    lyrics_of_that_artist = artist_lyrics_df.loc[artist_lyrics_df[\"Primary Artists\"]==artist, \"Lyrics\"].values[0]\n",
    "    words=preprocess_lyrics(lyrics_of_that_artist)\n",
    "    words_artist_dfs[artist] = word_list_to_df(words)"
   ],
   "metadata": {
    "collapsed": false
   }
  },
  {
   "cell_type": "code",
   "execution_count": 115,
   "outputs": [
    {
     "data": {
      "text/plain": "          index     0\n0           and  1978\n1          they   912\n2        wishin    30\n3            on  1903\n4            me  2294\n...         ...   ...\n11243      mitt     1\n11244     kimbo     1\n11245      gen3     1\n11246   propped     1\n11247  pilotyou     1\n\n[11248 rows x 2 columns]",
      "text/html": "<div>\n<style scoped>\n    .dataframe tbody tr th:only-of-type {\n        vertical-align: middle;\n    }\n\n    .dataframe tbody tr th {\n        vertical-align: top;\n    }\n\n    .dataframe thead th {\n        text-align: right;\n    }\n</style>\n<table border=\"1\" class=\"dataframe\">\n  <thead>\n    <tr style=\"text-align: right;\">\n      <th></th>\n      <th>index</th>\n      <th>0</th>\n    </tr>\n  </thead>\n  <tbody>\n    <tr>\n      <th>0</th>\n      <td>and</td>\n      <td>1978</td>\n    </tr>\n    <tr>\n      <th>1</th>\n      <td>they</td>\n      <td>912</td>\n    </tr>\n    <tr>\n      <th>2</th>\n      <td>wishin</td>\n      <td>30</td>\n    </tr>\n    <tr>\n      <th>3</th>\n      <td>on</td>\n      <td>1903</td>\n    </tr>\n    <tr>\n      <th>4</th>\n      <td>me</td>\n      <td>2294</td>\n    </tr>\n    <tr>\n      <th>...</th>\n      <td>...</td>\n      <td>...</td>\n    </tr>\n    <tr>\n      <th>11243</th>\n      <td>mitt</td>\n      <td>1</td>\n    </tr>\n    <tr>\n      <th>11244</th>\n      <td>kimbo</td>\n      <td>1</td>\n    </tr>\n    <tr>\n      <th>11245</th>\n      <td>gen3</td>\n      <td>1</td>\n    </tr>\n    <tr>\n      <th>11246</th>\n      <td>propped</td>\n      <td>1</td>\n    </tr>\n    <tr>\n      <th>11247</th>\n      <td>pilotyou</td>\n      <td>1</td>\n    </tr>\n  </tbody>\n</table>\n<p>11248 rows × 2 columns</p>\n</div>"
     },
     "execution_count": 115,
     "metadata": {},
     "output_type": "execute_result"
    }
   ],
   "source": [
    "words_artist_dfs[\"Post Malone\"]"
   ],
   "metadata": {
    "collapsed": false
   }
  },
  {
   "cell_type": "code",
   "execution_count": null,
   "outputs": [],
   "source": [],
   "metadata": {
    "collapsed": false
   }
  }
 ],
 "metadata": {
  "kernelspec": {
   "display_name": "Python 3",
   "language": "python",
   "name": "python3"
  },
  "language_info": {
   "codemirror_mode": {
    "name": "ipython",
    "version": 2
   },
   "file_extension": ".py",
   "mimetype": "text/x-python",
   "name": "python",
   "nbconvert_exporter": "python",
   "pygments_lexer": "ipython2",
   "version": "2.7.6"
  }
 },
 "nbformat": 4,
 "nbformat_minor": 0
}
