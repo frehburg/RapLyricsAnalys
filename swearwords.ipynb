{
 "cells": [
  {
   "cell_type": "code",
   "execution_count": 29,
   "metadata": {
    "collapsed": true
   },
   "outputs": [],
   "source": [
    "import pandas as pd\n",
    "import re\n",
    "import nltk\n",
    "from collections import Counter"
   ]
  },
  {
   "cell_type": "code",
   "execution_count": 136,
   "outputs": [
    {
     "data": {
      "text/plain": "             jigaboo\n0     mound of venus\n1           asslover\n2                s&m\n3              queaf\n4         whitetrash\n...              ...\n1611           cocky\n1612     transsexual\n1613      unfuckable\n1614      bestiality\n1615      cocklicker\n\n[1616 rows x 1 columns]",
      "text/html": "<div>\n<style scoped>\n    .dataframe tbody tr th:only-of-type {\n        vertical-align: middle;\n    }\n\n    .dataframe tbody tr th {\n        vertical-align: top;\n    }\n\n    .dataframe thead th {\n        text-align: right;\n    }\n</style>\n<table border=\"1\" class=\"dataframe\">\n  <thead>\n    <tr style=\"text-align: right;\">\n      <th></th>\n      <th>jigaboo</th>\n    </tr>\n  </thead>\n  <tbody>\n    <tr>\n      <th>0</th>\n      <td>mound of venus</td>\n    </tr>\n    <tr>\n      <th>1</th>\n      <td>asslover</td>\n    </tr>\n    <tr>\n      <th>2</th>\n      <td>s&amp;m</td>\n    </tr>\n    <tr>\n      <th>3</th>\n      <td>queaf</td>\n    </tr>\n    <tr>\n      <th>4</th>\n      <td>whitetrash</td>\n    </tr>\n    <tr>\n      <th>...</th>\n      <td>...</td>\n    </tr>\n    <tr>\n      <th>1611</th>\n      <td>cocky</td>\n    </tr>\n    <tr>\n      <th>1612</th>\n      <td>transsexual</td>\n    </tr>\n    <tr>\n      <th>1613</th>\n      <td>unfuckable</td>\n    </tr>\n    <tr>\n      <th>1614</th>\n      <td>bestiality</td>\n    </tr>\n    <tr>\n      <th>1615</th>\n      <td>cocklicker</td>\n    </tr>\n  </tbody>\n</table>\n<p>1616 rows × 1 columns</p>\n</div>"
     },
     "execution_count": 136,
     "metadata": {},
     "output_type": "execute_result"
    }
   ],
   "source": [
    "# load data\n",
    "songs_data = pd.read_csv(\"data/top50_2018_2022.csv\")\n",
    "bad_words_data = pd.read_csv(\"data/bad-words.csv\")\n",
    "bad_words_data"
   ],
   "metadata": {
    "collapsed": false
   }
  },
  {
   "cell_type": "code",
   "execution_count": 95,
   "outputs": [],
   "source": [
    "# primary artists -> separate by comma\n",
    "songs_data[\"Primary Artists\"] = songs_data[\"Primary Artists\"].str.replace(\" & \",\",\")\n",
    "songs_data[\"Primary Artists\"] = songs_data[\"Primary Artists\"].str.replace(\", \", \",\")\n",
    "songs_data[\"Primary Artists\"] = songs_data[\"Primary Artists\"].str.split(\",\")"
   ],
   "metadata": {
    "collapsed": false
   }
  },
  {
   "cell_type": "code",
   "execution_count": 96,
   "outputs": [
    {
     "data": {
      "text/plain": "0                             [Drake]\n1      [Cardi B, Bad Bunny, J Balvin]\n2                             [Drake]\n3                       [Post Malone]\n4                             [Drake]\n                    ...              \n245                      [Juice WRLD]\n246       [Baby Keem, Kendrick Lamar]\n247                        [Rod Wave]\n248             [Megan Thee Stallion]\n249                    [Armani White]\nName: Primary Artists, Length: 250, dtype: object"
     },
     "execution_count": 96,
     "metadata": {},
     "output_type": "execute_result"
    }
   ],
   "source": [
    "songs_data[\"Primary Artists\"]"
   ],
   "metadata": {
    "collapsed": false
   }
  },
  {
   "cell_type": "code",
   "execution_count": 22,
   "outputs": [],
   "source": [
    "def preprocess_lyrics(lyrics):\n",
    "    # Remove punctuation\n",
    "    lyrics = re.sub('[^a-zA-Z0-9\\s]', '', lyrics)\n",
    "    # Convert to lowercase\n",
    "    lyrics = lyrics.lower()\n",
    "    # Tokenize into individual words\n",
    "    words = nltk.word_tokenize(lyrics)\n",
    "    return words"
   ],
   "metadata": {
    "collapsed": false
   }
  },
  {
   "cell_type": "code",
   "execution_count": 126,
   "outputs": [],
   "source": [
    "def word_list_to_df(words):\n",
    "    df = pd.DataFrame.from_dict(Counter(used_words), orient=\"index\", columns=[\"count\"]).reset_index()\n",
    "    df.index.name = \"word\"\n",
    "    return df"
   ],
   "metadata": {
    "collapsed": false
   }
  },
  {
   "cell_type": "code",
   "execution_count": 127,
   "outputs": [],
   "source": [
    "# a table of ALL words (independent of any other variable)\n",
    "used_words = []\n",
    "for lyrics in songs_data[\"Lyrics\"]:\n",
    "    for word in preprocess_lyrics(lyrics):\n",
    "        used_words.append(word)\n",
    "\n",
    "all_words_df = word_list_to_df(used_words)"
   ],
   "metadata": {
    "collapsed": false
   }
  },
  {
   "cell_type": "code",
   "execution_count": 129,
   "outputs": [],
   "source": [
    "# a table of words FOR EACH year\n",
    "words_year_dfs = {}\n",
    "for year in songs_data[\"year\"].unique():\n",
    "    words_year_dfs[year] = []\n",
    "\n",
    "# combine all lyrics of a year\n",
    "year_lyrics_df = songs_data.groupby(\"year\")[\"Lyrics\"].apply(' '.join).reset_index()\n",
    "for year in words_year_dfs.keys():\n",
    "    lyrics_of_that_year = year_lyrics_df.loc[year_lyrics_df[\"year\"]==year, \"Lyrics\"].values[0]\n",
    "    words=preprocess_lyrics(lyrics_of_that_year)\n",
    "    words_year_dfs[year] = word_list_to_df(words)"
   ],
   "metadata": {
    "collapsed": false
   }
  },
  {
   "cell_type": "code",
   "execution_count": 133,
   "outputs": [
    {
     "data": {
      "text/plain": "          index  count\nword                  \n0           and   1978\n1          they    912\n2        wishin     30\n3            on   1903\n4            me   2294\n...         ...    ...\n11243      mitt      1\n11244     kimbo      1\n11245      gen3      1\n11246   propped      1\n11247  pilotyou      1\n\n[11248 rows x 2 columns]",
      "text/html": "<div>\n<style scoped>\n    .dataframe tbody tr th:only-of-type {\n        vertical-align: middle;\n    }\n\n    .dataframe tbody tr th {\n        vertical-align: top;\n    }\n\n    .dataframe thead th {\n        text-align: right;\n    }\n</style>\n<table border=\"1\" class=\"dataframe\">\n  <thead>\n    <tr style=\"text-align: right;\">\n      <th></th>\n      <th>index</th>\n      <th>count</th>\n    </tr>\n    <tr>\n      <th>word</th>\n      <th></th>\n      <th></th>\n    </tr>\n  </thead>\n  <tbody>\n    <tr>\n      <th>0</th>\n      <td>and</td>\n      <td>1978</td>\n    </tr>\n    <tr>\n      <th>1</th>\n      <td>they</td>\n      <td>912</td>\n    </tr>\n    <tr>\n      <th>2</th>\n      <td>wishin</td>\n      <td>30</td>\n    </tr>\n    <tr>\n      <th>3</th>\n      <td>on</td>\n      <td>1903</td>\n    </tr>\n    <tr>\n      <th>4</th>\n      <td>me</td>\n      <td>2294</td>\n    </tr>\n    <tr>\n      <th>...</th>\n      <td>...</td>\n      <td>...</td>\n    </tr>\n    <tr>\n      <th>11243</th>\n      <td>mitt</td>\n      <td>1</td>\n    </tr>\n    <tr>\n      <th>11244</th>\n      <td>kimbo</td>\n      <td>1</td>\n    </tr>\n    <tr>\n      <th>11245</th>\n      <td>gen3</td>\n      <td>1</td>\n    </tr>\n    <tr>\n      <th>11246</th>\n      <td>propped</td>\n      <td>1</td>\n    </tr>\n    <tr>\n      <th>11247</th>\n      <td>pilotyou</td>\n      <td>1</td>\n    </tr>\n  </tbody>\n</table>\n<p>11248 rows × 2 columns</p>\n</div>"
     },
     "execution_count": 133,
     "metadata": {},
     "output_type": "execute_result"
    }
   ],
   "source": [
    "words_year_dfs[2020]"
   ],
   "metadata": {
    "collapsed": false
   }
  },
  {
   "cell_type": "code",
   "execution_count": 134,
   "outputs": [],
   "source": [
    "# a table of words FOR EACH primary artist\n",
    "words_artist_dfs = {}\n",
    "# if multiple primary artists: EXPLODE!! (means per duplicate row for each artist)\n",
    "exploded_songs_data = songs_data.explode('Primary Artists')\n",
    "for artist in exploded_songs_data[\"Primary Artists\"].unique():\n",
    "    words_artist_dfs[artist] = []\n",
    "\n",
    "# combine all lyrics of an artist\n",
    "artist_lyrics_df = explored_songs_data.groupby(\"Primary Artists\")[\"Lyrics\"].apply(' '.join).reset_index()\n",
    "for artist in words_artist_dfs.keys():\n",
    "    lyrics_of_that_artist = artist_lyrics_df.loc[artist_lyrics_df[\"Primary Artists\"]==artist, \"Lyrics\"].values[0]\n",
    "    words=preprocess_lyrics(lyrics_of_that_artist)\n",
    "    words_artist_dfs[artist] = word_list_to_df(words)"
   ],
   "metadata": {
    "collapsed": false
   }
  },
  {
   "cell_type": "code",
   "execution_count": 135,
   "outputs": [
    {
     "data": {
      "text/plain": "          index  count\nword                  \n0           and   1978\n1          they    912\n2        wishin     30\n3            on   1903\n4            me   2294\n...         ...    ...\n11243      mitt      1\n11244     kimbo      1\n11245      gen3      1\n11246   propped      1\n11247  pilotyou      1\n\n[11248 rows x 2 columns]",
      "text/html": "<div>\n<style scoped>\n    .dataframe tbody tr th:only-of-type {\n        vertical-align: middle;\n    }\n\n    .dataframe tbody tr th {\n        vertical-align: top;\n    }\n\n    .dataframe thead th {\n        text-align: right;\n    }\n</style>\n<table border=\"1\" class=\"dataframe\">\n  <thead>\n    <tr style=\"text-align: right;\">\n      <th></th>\n      <th>index</th>\n      <th>count</th>\n    </tr>\n    <tr>\n      <th>word</th>\n      <th></th>\n      <th></th>\n    </tr>\n  </thead>\n  <tbody>\n    <tr>\n      <th>0</th>\n      <td>and</td>\n      <td>1978</td>\n    </tr>\n    <tr>\n      <th>1</th>\n      <td>they</td>\n      <td>912</td>\n    </tr>\n    <tr>\n      <th>2</th>\n      <td>wishin</td>\n      <td>30</td>\n    </tr>\n    <tr>\n      <th>3</th>\n      <td>on</td>\n      <td>1903</td>\n    </tr>\n    <tr>\n      <th>4</th>\n      <td>me</td>\n      <td>2294</td>\n    </tr>\n    <tr>\n      <th>...</th>\n      <td>...</td>\n      <td>...</td>\n    </tr>\n    <tr>\n      <th>11243</th>\n      <td>mitt</td>\n      <td>1</td>\n    </tr>\n    <tr>\n      <th>11244</th>\n      <td>kimbo</td>\n      <td>1</td>\n    </tr>\n    <tr>\n      <th>11245</th>\n      <td>gen3</td>\n      <td>1</td>\n    </tr>\n    <tr>\n      <th>11246</th>\n      <td>propped</td>\n      <td>1</td>\n    </tr>\n    <tr>\n      <th>11247</th>\n      <td>pilotyou</td>\n      <td>1</td>\n    </tr>\n  </tbody>\n</table>\n<p>11248 rows × 2 columns</p>\n</div>"
     },
     "execution_count": 135,
     "metadata": {},
     "output_type": "execute_result"
    }
   ],
   "source": [
    "words_artist_dfs[\"Post Malone\"]"
   ],
   "metadata": {
    "collapsed": false
   }
  },
  {
   "cell_type": "code",
   "execution_count": 139,
   "outputs": [
    {
     "name": "stdout",
     "output_type": "stream",
     "text": [
      "0\n",
      "1\n",
      "2\n",
      "3\n",
      "4\n"
     ]
    }
   ],
   "source": [
    "for i,j in enumerate(words_year_dfs):\n",
    "    print(i)"
   ],
   "metadata": {
    "collapsed": false
   }
  },
  {
   "cell_type": "code",
   "execution_count": 142,
   "outputs": [],
   "source": [
    "# create swear word column to each\n",
    "swear_all_words_df = all_words_df\n",
    "swear_all_words_df[\"swearword\"] = all_words_df[\"index\"].isin(bad_words_data[\"jigaboo\"])\n",
    "\n",
    "swear_words_year_dfs = words_year_dfs\n",
    "for k in words_year_dfs.keys():\n",
    "    swear_words_year_dfs[k][\"swearword\"] = words_year_dfs[k][\"index\"].isin(bad_words_data[\"jigaboo\"])\n",
    "\n",
    "swear_words_artist_dfs = words_artist_dfs\n",
    "for k in words_artist_dfs.keys():\n",
    "    swear_words_artist_dfs[k][\"swearword\"] = words_artist_dfs[k][\"index\"].isin(bad_words_data[\"jigaboo\"])"
   ],
   "metadata": {
    "collapsed": false
   }
  },
  {
   "cell_type": "code",
   "execution_count": 141,
   "outputs": [
    {
     "data": {
      "text/plain": "          index  count  swearword\nword                             \n0           and   1978      False\n1          they    912      False\n2        wishin     30      False\n3            on   1903      False\n4            me   2294      False\n...         ...    ...        ...\n11243      mitt      1      False\n11244     kimbo      1      False\n11245      gen3      1      False\n11246   propped      1      False\n11247  pilotyou      1      False\n\n[11248 rows x 3 columns]",
      "text/html": "<div>\n<style scoped>\n    .dataframe tbody tr th:only-of-type {\n        vertical-align: middle;\n    }\n\n    .dataframe tbody tr th {\n        vertical-align: top;\n    }\n\n    .dataframe thead th {\n        text-align: right;\n    }\n</style>\n<table border=\"1\" class=\"dataframe\">\n  <thead>\n    <tr style=\"text-align: right;\">\n      <th></th>\n      <th>index</th>\n      <th>count</th>\n      <th>swearword</th>\n    </tr>\n    <tr>\n      <th>word</th>\n      <th></th>\n      <th></th>\n      <th></th>\n    </tr>\n  </thead>\n  <tbody>\n    <tr>\n      <th>0</th>\n      <td>and</td>\n      <td>1978</td>\n      <td>False</td>\n    </tr>\n    <tr>\n      <th>1</th>\n      <td>they</td>\n      <td>912</td>\n      <td>False</td>\n    </tr>\n    <tr>\n      <th>2</th>\n      <td>wishin</td>\n      <td>30</td>\n      <td>False</td>\n    </tr>\n    <tr>\n      <th>3</th>\n      <td>on</td>\n      <td>1903</td>\n      <td>False</td>\n    </tr>\n    <tr>\n      <th>4</th>\n      <td>me</td>\n      <td>2294</td>\n      <td>False</td>\n    </tr>\n    <tr>\n      <th>...</th>\n      <td>...</td>\n      <td>...</td>\n      <td>...</td>\n    </tr>\n    <tr>\n      <th>11243</th>\n      <td>mitt</td>\n      <td>1</td>\n      <td>False</td>\n    </tr>\n    <tr>\n      <th>11244</th>\n      <td>kimbo</td>\n      <td>1</td>\n      <td>False</td>\n    </tr>\n    <tr>\n      <th>11245</th>\n      <td>gen3</td>\n      <td>1</td>\n      <td>False</td>\n    </tr>\n    <tr>\n      <th>11246</th>\n      <td>propped</td>\n      <td>1</td>\n      <td>False</td>\n    </tr>\n    <tr>\n      <th>11247</th>\n      <td>pilotyou</td>\n      <td>1</td>\n      <td>False</td>\n    </tr>\n  </tbody>\n</table>\n<p>11248 rows × 3 columns</p>\n</div>"
     },
     "execution_count": 141,
     "metadata": {},
     "output_type": "execute_result"
    }
   ],
   "source": [
    "swear_words_year_dfs[2020]"
   ],
   "metadata": {
    "collapsed": false
   }
  }
 ],
 "metadata": {
  "kernelspec": {
   "display_name": "Python 3",
   "language": "python",
   "name": "python3"
  },
  "language_info": {
   "codemirror_mode": {
    "name": "ipython",
    "version": 2
   },
   "file_extension": ".py",
   "mimetype": "text/x-python",
   "name": "python",
   "nbconvert_exporter": "python",
   "pygments_lexer": "ipython2",
   "version": "2.7.6"
  }
 },
 "nbformat": 4,
 "nbformat_minor": 0
}
