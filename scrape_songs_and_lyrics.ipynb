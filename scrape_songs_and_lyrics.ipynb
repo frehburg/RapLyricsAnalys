{
 "cells": [
  {
   "cell_type": "code",
   "execution_count": 1,
   "id": "eb46bfcf",
   "metadata": {},
   "outputs": [],
   "source": [
    "from lyricsgenius import Genius\n",
    "from bs4 import BeautifulSoup\n",
    "import requests\n",
    "import pandas as pd\n",
    "from itertools import islice\n",
    "import os\n",
    "import re\n",
    "from tqdm.notebook import tqdm\n",
    "import time"
   ]
  },
  {
   "cell_type": "code",
   "execution_count": 2,
   "outputs": [],
   "source": [
    "# Authenticate with Genius API\n",
    "genius = Genius('FeuRaslWUfDgOWiEO3QS6l2vmWY5i0oHH4fiMtz7-LLuYy8NR5JFkTc92ZwQgmR-', verbose=False, timeout=20)"
   ],
   "metadata": {
    "collapsed": false
   }
  },
  {
   "cell_type": "code",
   "execution_count": 3,
   "outputs": [],
   "source": [
    "def get_top50_from_url(year):\n",
    "    #example = url_start + '2018' + url_end\n",
    "    url_start = 'https://www.billboard.com/charts/year-end/'\n",
    "    url_end = '/hot-rap-songs/'\n",
    "\n",
    "    url = url_start + str(year) + url_end\n",
    "    response = requests.get(url)\n",
    "\n",
    "    soup = BeautifulSoup(response.text, 'html.parser')\n",
    "    results = soup.find_all('div', {'class': 'o-chart-results-list-row-container'})\n",
    "\n",
    "    data = []\n",
    "\n",
    "    for i in range(len(results)):\n",
    "        result = results[i]\n",
    "        title = result.find('h3').text.strip()\n",
    "        spans = result.find_all('span')\n",
    "        artist = spans[1].text.strip()\n",
    "        data.append({'position': i+1, 'title': title, 'artist': artist, 'year': year})\n",
    "\n",
    "    df = pd.DataFrame(data)\n",
    "    return df"
   ],
   "metadata": {
    "collapsed": false
   }
  },
  {
   "cell_type": "code",
   "execution_count": 4,
   "outputs": [],
   "source": [
    "def get_lyrics_and_primary_artist(df):\n",
    "    lyrics = []\n",
    "    primary_artists = []\n",
    "    for i, row in tqdm(df.iterrows(), desc=\"songs\", position=0, leave=True):\n",
    "        artist = row[\"artist\"]\n",
    "        title = row[\"title\"]\n",
    "\n",
    "        genius_fetch = genius.search_song(title, artist)\n",
    "        # check whether its the translated version....\n",
    "        if genius_fetch is not None and \"Genius\" in genius_fetch.primary_artist.name:\n",
    "            # try alternative\n",
    "            artist = artist.lower()\n",
    "            if \"featuring\" in artist:\n",
    "                a = artist.split(\"featuring\")[0]\n",
    "                genius_fetch = genius.search_song(title, a)\n",
    "            elif \"ft.\" in artist:\n",
    "                a = artist.split(\"ft.\")[0]\n",
    "                genius_fetch = genius.search_song(title, a)\n",
    "\n",
    "        if genius_fetch is None:\n",
    "            lyrics.append(None)\n",
    "            primary_artists.append(None)\n",
    "        else:\n",
    "            lyrics.append(genius_fetch.lyrics)\n",
    "            primary_artists.append(genius_fetch.primary_artist.name)\n",
    "\n",
    "    return lyrics, primary_artists"
   ],
   "metadata": {
    "collapsed": false
   }
  },
  {
   "cell_type": "code",
   "execution_count": 5,
   "outputs": [],
   "source": [
    "# cleans lyrics\n",
    "def clean_lyrics(lyrics):\n",
    "    # remove everything until the first occurence of Lyrics (including this word)\n",
    "    lyrics = re.sub(r'^.*?Lyrics', '', lyrics)\n",
    "    #\n",
    "    lyrics = lyrics.replace(\"\\u2005\",\" \")\n",
    "    # remove all tags ( tag: [ XX ]\n",
    "    lyrics = re.sub(r'\\[.+?\\]','',lyrics)\n",
    "    # the last word contains 000Embeded, where 000 is any number. remove this\n",
    "    lyrics = re.sub(r\"\\d*Embed$\",'', lyrics)\n",
    "    # no need for \\n\n",
    "    lyrics = lyrics.replace(\"\\n\",\" \")\n",
    "    # remove multiple spaces\n",
    "    lyrics = re.sub('\\s+',' ', lyrics).strip()\n",
    "    return lyrics"
   ],
   "metadata": {
    "collapsed": false
   }
  },
  {
   "cell_type": "code",
   "execution_count": null,
   "outputs": [
    {
     "data": {
      "text/plain": "Year:   0%|          | 0/5 [00:00<?, ?it/s]",
      "application/vnd.jupyter.widget-view+json": {
       "version_major": 2,
       "version_minor": 0,
       "model_id": "f3fdd72d60fa4e84a7a8b64ce8bad885"
      }
     },
     "metadata": {},
     "output_type": "display_data"
    },
    {
     "data": {
      "text/plain": "songs: 0it [00:00, ?it/s]",
      "application/vnd.jupyter.widget-view+json": {
       "version_major": 2,
       "version_minor": 0,
       "model_id": "dca38b29c963414089fc36a3a1c88c2c"
      }
     },
     "metadata": {},
     "output_type": "display_data"
    }
   ],
   "source": [
    "dfs = []\n",
    "for y in tqdm(range(2018,2023), desc=\"Year\"):\n",
    "    # get top 50 rap songs for given year\n",
    "    df = get_top50_from_url(y)\n",
    "    # get the primary artists and cleaned lyrics for each song\n",
    "    lyrics, primary_artists = get_lyrics_and_primary_artist(df)\n",
    "    # clean the lyrics\n",
    "    cleaned_lyrics = []\n",
    "    for l in lyrics:\n",
    "        if l is None:\n",
    "            cleaned_lyrics.append(None)\n",
    "        else:\n",
    "            cleaned_lyrics.append(clean_lyrics(l))\n",
    "    # add them to df\n",
    "    df[\"Lyrics\"] = cleaned_lyrics\n",
    "    df[\"Primary Artists\"] = primary_artists\n",
    "\n",
    "    dfs.append(df)"
   ],
   "metadata": {
    "collapsed": false,
    "pycharm": {
     "is_executing": true
    }
   }
  },
  {
   "cell_type": "code",
   "execution_count": null,
   "outputs": [],
   "source": [
    "df_all = pd.concat(dfs)\n",
    "df_all"
   ],
   "metadata": {
    "collapsed": false,
    "pycharm": {
     "is_executing": true
    }
   }
  },
  {
   "cell_type": "code",
   "execution_count": null,
   "outputs": [],
   "source": [
    "df_all.to_csv('data/top50_2018_2022.csv', index=False)"
   ],
   "metadata": {
    "collapsed": false,
    "pycharm": {
     "is_executing": true
    }
   }
  }
 ],
 "metadata": {
  "kernelspec": {
   "display_name": "Python 3",
   "language": "python",
   "name": "python3"
  },
  "language_info": {
   "codemirror_mode": {
    "name": "ipython",
    "version": 3
   },
   "file_extension": ".py",
   "mimetype": "text/x-python",
   "name": "python",
   "nbconvert_exporter": "python",
   "pygments_lexer": "ipython3",
   "version": "3.8.8"
  }
 },
 "nbformat": 4,
 "nbformat_minor": 5
}
