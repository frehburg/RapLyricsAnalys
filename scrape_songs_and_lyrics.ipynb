{
 "cells": [
  {
   "cell_type": "code",
   "execution_count": 15,
   "id": "eb46bfcf",
   "metadata": {},
   "outputs": [],
   "source": [
    "from lyricsgenius import Genius\n",
    "from bs4 import BeautifulSoup\n",
    "import requests\n",
    "import pandas as pd\n",
    "from itertools import islice\n",
    "import os\n",
    "import re\n",
    "from tqdm.notebook import tqdm\n",
    "import time"
   ]
  },
  {
   "cell_type": "code",
   "execution_count": 4,
   "outputs": [],
   "source": [
    "# Authenticate with Genius API\n",
    "genius = Genius('FeuRaslWUfDgOWiEO3QS6l2vmWY5i0oHH4fiMtz7-LLuYy8NR5JFkTc92ZwQgmR-', verbose=False, timeout=20)"
   ],
   "metadata": {
    "collapsed": false
   }
  },
  {
   "cell_type": "code",
   "execution_count": 29,
   "outputs": [],
   "source": [
    "def get_top50_from_url(year):\n",
    "    #example = url_start + '2018' + url_end\n",
    "    url_start = 'https://www.billboard.com/charts/year-end/'\n",
    "    url_end = '/hot-rap-songs/'\n",
    "\n",
    "    url = url_start + str(year) + url_end\n",
    "    response = requests.get(url)\n",
    "\n",
    "    soup = BeautifulSoup(response.text, 'html.parser')\n",
    "    results = soup.find_all('div', {'class': 'o-chart-results-list-row-container'})\n",
    "\n",
    "    data = []\n",
    "\n",
    "    for i in range(len(results)):\n",
    "        result = results[i]\n",
    "        title = result.find('h3').text.strip()\n",
    "        spans = result.find_all('span')\n",
    "        artist = spans[1].text.strip()\n",
    "        data.append({'position': i+1, 'title': title, 'artist': artist, 'year': year})\n",
    "\n",
    "    df = pd.DataFrame(data)\n",
    "    return df"
   ],
   "metadata": {
    "collapsed": false
   }
  },
  {
   "cell_type": "code",
   "execution_count": 46,
   "outputs": [],
   "source": [
    "def get_lyrics_and_primary_artist(df):\n",
    "    lyrics = []\n",
    "    primary_artists = []\n",
    "    for i, row in tqdm(df.iterrows(), desc=\"songs\", position=0, leave=True):\n",
    "        artist = row[\"artist\"]\n",
    "        title = row[\"title\"]\n",
    "\n",
    "        genius_fetch = genius.search_song(title, artist)\n",
    "        # check whether its the translated version....\n",
    "        if genius_fetch is not None and \"Genius\" in genius_fetch.primary_artist.name:\n",
    "            # try alternative\n",
    "            artist = artist.lower()\n",
    "            if \"featuring\" in artist:\n",
    "                a = artist.split(\"featuring\")[0]\n",
    "                genius_fetch = genius.search_song(title, a)\n",
    "            elif \"ft.\" in artist:\n",
    "                a = artist.split(\"ft.\")[0]\n",
    "                genius_fetch = genius.search_song(title, a)\n",
    "\n",
    "        if genius_fetch is None:\n",
    "            lyrics.append(None)\n",
    "            primary_artists.append(None)\n",
    "        else:\n",
    "            lyrics.append(genius_fetch.lyrics)\n",
    "            primary_artists.append(genius_fetch.primary_artist.name)\n",
    "\n",
    "    return lyrics, primary_artists"
   ],
   "metadata": {
    "collapsed": false
   }
  },
  {
   "cell_type": "code",
   "execution_count": 28,
   "outputs": [],
   "source": [
    "# cleans lyrics\n",
    "def clean_lyrics(lyrics):\n",
    "    # remove everything until the first occurence of Lyrics (including this word)\n",
    "    lyrics = re.sub(r'^.*?Lyrics', '', lyrics)\n",
    "    #\n",
    "    lyrics = lyrics.replace(\"\\u2005\",\" \")\n",
    "    # remove all tags ( tag: [ XX ]\n",
    "    lyrics = re.sub(r'\\[.+?\\]','',lyrics)\n",
    "    # the last word contains 000Embeded, where 000 is any number. remove this\n",
    "    lyrics = re.sub(r\"\\d*Embed$\",'', lyrics)\n",
    "    # no need for \\n\n",
    "    lyrics = lyrics.replace(\"\\n\",\" \")\n",
    "    # remove multiple spaces\n",
    "    lyrics = re.sub('\\s+',' ', lyrics).strip()\n",
    "    return lyrics"
   ],
   "metadata": {
    "collapsed": false
   }
  },
  {
   "cell_type": "code",
   "execution_count": 49,
   "outputs": [
    {
     "data": {
      "text/plain": "Year:   0%|          | 0/5 [00:00<?, ?it/s]",
      "application/vnd.jupyter.widget-view+json": {
       "version_major": 2,
       "version_minor": 0,
       "model_id": "8546caa59ad449b7b3947553d7ea7ee6"
      }
     },
     "metadata": {},
     "output_type": "display_data"
    },
    {
     "data": {
      "text/plain": "songs: 0it [00:00, ?it/s]",
      "application/vnd.jupyter.widget-view+json": {
       "version_major": 2,
       "version_minor": 0,
       "model_id": "8d45c1690b5246e7857508084d922514"
      }
     },
     "metadata": {},
     "output_type": "display_data"
    },
    {
     "data": {
      "text/plain": "songs: 0it [00:00, ?it/s]",
      "application/vnd.jupyter.widget-view+json": {
       "version_major": 2,
       "version_minor": 0,
       "model_id": "8ed2d1319fcb4913bcea0017b4a1b80a"
      }
     },
     "metadata": {},
     "output_type": "display_data"
    },
    {
     "data": {
      "text/plain": "songs: 0it [00:00, ?it/s]",
      "application/vnd.jupyter.widget-view+json": {
       "version_major": 2,
       "version_minor": 0,
       "model_id": "90af3173692b4410b0fdb028ba04b582"
      }
     },
     "metadata": {},
     "output_type": "display_data"
    },
    {
     "data": {
      "text/plain": "songs: 0it [00:00, ?it/s]",
      "application/vnd.jupyter.widget-view+json": {
       "version_major": 2,
       "version_minor": 0,
       "model_id": "48f9f4e3875147b39d55bbd561515724"
      }
     },
     "metadata": {},
     "output_type": "display_data"
    },
    {
     "data": {
      "text/plain": "songs: 0it [00:00, ?it/s]",
      "application/vnd.jupyter.widget-view+json": {
       "version_major": 2,
       "version_minor": 0,
       "model_id": "8186af29feca4eb4862f881608255c5c"
      }
     },
     "metadata": {},
     "output_type": "display_data"
    }
   ],
   "source": [
    "dfs = []\n",
    "for y in tqdm(range(2018,2023), desc=\"Year\"):\n",
    "    # get top 50 rap songs for given year\n",
    "    df = get_top50_from_url(y)\n",
    "    # get the primary artists and cleaned lyrics for each song\n",
    "    lyrics, primary_artists = get_lyrics_and_primary_artist(df)\n",
    "    # clean the lyrics\n",
    "    cleaned_lyrics = []\n",
    "    for l in lyrics:\n",
    "        if l is None:\n",
    "            cleaned_lyrics.append(None)\n",
    "        else:\n",
    "            cleaned_lyrics.append(clean_lyrics(l))\n",
    "    # add them to df\n",
    "    df[\"Lyrics\"] = cleaned_lyrics\n",
    "    df[\"Primary Artists\"] = primary_artists\n",
    "\n",
    "    dfs.append(df)"
   ],
   "metadata": {
    "collapsed": false
   }
  },
  {
   "cell_type": "code",
   "execution_count": 50,
   "outputs": [
    {
     "data": {
      "text/plain": "    position           title                               artist  year  \\\n0          1      God's Plan                                Drake  2018   \n1          2       I Like It        Cardi B, Bad Bunny & J Balvin  2018   \n2          3  In My Feelings                                Drake  2018   \n3          4          Psycho  Post Malone Featuring Ty Dolla $ign  2018   \n4          5   Nice For What                                Drake  2018   \n..       ...             ...                                  ...   ...   \n45        46    Already Dead                           Juice WRLD  2022   \n46        47     Family Ties           Baby Keem & Kendrick Lamar  2022   \n47        48           Alone                             Rod Wave  2022   \n48        49          Plan B                  Megan Thee Stallion  2022   \n49        50  Billie Eilish.                         Armani White  2022   \n\n                                               Lyrics  \\\n0   And they wishin' and wishin' And wishin' and w...   \n1   Yeah, baby, I like it like that You gotta beli...   \n2   Trap, TrapMoneyBenny This shit got me in my fe...   \n3   Damn, my AP goin' psycho, lil' mama bad like M...   \n4   I wanna know who mothafuckin' representin' in ...   \n..                                                ...   \n45  You can see the pain in my laugh (Yeah, yeah) ...   \n46  Jump in that— (Hah, Hah), summon that bitch Ju...   \n47  B Squared beats Oh (Oh-woah) Oh-woah Tell me w...   \n48  Who the fuck you think you talkin' to, nigga? ...   \n49  Bitch, I'm stylish Glock tucked, big t-shirt, ...   \n\n                  Primary Artists  \n0                           Drake  \n1   Cardi B, Bad Bunny & J Balvin  \n2                           Drake  \n3                     Post Malone  \n4                           Drake  \n..                            ...  \n45                     Juice WRLD  \n46     Baby Keem & Kendrick Lamar  \n47                       Rod Wave  \n48            Megan Thee Stallion  \n49                   Armani White  \n\n[250 rows x 6 columns]",
      "text/html": "<div>\n<style scoped>\n    .dataframe tbody tr th:only-of-type {\n        vertical-align: middle;\n    }\n\n    .dataframe tbody tr th {\n        vertical-align: top;\n    }\n\n    .dataframe thead th {\n        text-align: right;\n    }\n</style>\n<table border=\"1\" class=\"dataframe\">\n  <thead>\n    <tr style=\"text-align: right;\">\n      <th></th>\n      <th>position</th>\n      <th>title</th>\n      <th>artist</th>\n      <th>year</th>\n      <th>Lyrics</th>\n      <th>Primary Artists</th>\n    </tr>\n  </thead>\n  <tbody>\n    <tr>\n      <th>0</th>\n      <td>1</td>\n      <td>God's Plan</td>\n      <td>Drake</td>\n      <td>2018</td>\n      <td>And they wishin' and wishin' And wishin' and w...</td>\n      <td>Drake</td>\n    </tr>\n    <tr>\n      <th>1</th>\n      <td>2</td>\n      <td>I Like It</td>\n      <td>Cardi B, Bad Bunny &amp; J Balvin</td>\n      <td>2018</td>\n      <td>Yeah, baby, I like it like that You gotta beli...</td>\n      <td>Cardi B, Bad Bunny &amp; J Balvin</td>\n    </tr>\n    <tr>\n      <th>2</th>\n      <td>3</td>\n      <td>In My Feelings</td>\n      <td>Drake</td>\n      <td>2018</td>\n      <td>Trap, TrapMoneyBenny This shit got me in my fe...</td>\n      <td>Drake</td>\n    </tr>\n    <tr>\n      <th>3</th>\n      <td>4</td>\n      <td>Psycho</td>\n      <td>Post Malone Featuring Ty Dolla $ign</td>\n      <td>2018</td>\n      <td>Damn, my AP goin' psycho, lil' mama bad like M...</td>\n      <td>Post Malone</td>\n    </tr>\n    <tr>\n      <th>4</th>\n      <td>5</td>\n      <td>Nice For What</td>\n      <td>Drake</td>\n      <td>2018</td>\n      <td>I wanna know who mothafuckin' representin' in ...</td>\n      <td>Drake</td>\n    </tr>\n    <tr>\n      <th>...</th>\n      <td>...</td>\n      <td>...</td>\n      <td>...</td>\n      <td>...</td>\n      <td>...</td>\n      <td>...</td>\n    </tr>\n    <tr>\n      <th>45</th>\n      <td>46</td>\n      <td>Already Dead</td>\n      <td>Juice WRLD</td>\n      <td>2022</td>\n      <td>You can see the pain in my laugh (Yeah, yeah) ...</td>\n      <td>Juice WRLD</td>\n    </tr>\n    <tr>\n      <th>46</th>\n      <td>47</td>\n      <td>Family Ties</td>\n      <td>Baby Keem &amp; Kendrick Lamar</td>\n      <td>2022</td>\n      <td>Jump in that— (Hah, Hah), summon that bitch Ju...</td>\n      <td>Baby Keem &amp; Kendrick Lamar</td>\n    </tr>\n    <tr>\n      <th>47</th>\n      <td>48</td>\n      <td>Alone</td>\n      <td>Rod Wave</td>\n      <td>2022</td>\n      <td>B Squared beats Oh (Oh-woah) Oh-woah Tell me w...</td>\n      <td>Rod Wave</td>\n    </tr>\n    <tr>\n      <th>48</th>\n      <td>49</td>\n      <td>Plan B</td>\n      <td>Megan Thee Stallion</td>\n      <td>2022</td>\n      <td>Who the fuck you think you talkin' to, nigga? ...</td>\n      <td>Megan Thee Stallion</td>\n    </tr>\n    <tr>\n      <th>49</th>\n      <td>50</td>\n      <td>Billie Eilish.</td>\n      <td>Armani White</td>\n      <td>2022</td>\n      <td>Bitch, I'm stylish Glock tucked, big t-shirt, ...</td>\n      <td>Armani White</td>\n    </tr>\n  </tbody>\n</table>\n<p>250 rows × 6 columns</p>\n</div>"
     },
     "execution_count": 50,
     "metadata": {},
     "output_type": "execute_result"
    }
   ],
   "source": [
    "df_all = pd.concat(dfs)\n",
    "df_all"
   ],
   "metadata": {
    "collapsed": false
   }
  },
  {
   "cell_type": "code",
   "execution_count": 51,
   "outputs": [],
   "source": [
    "df_all.to_csv('top50_2018_2022.csv', index=False)"
   ],
   "metadata": {
    "collapsed": false
   }
  }
 ],
 "metadata": {
  "kernelspec": {
   "display_name": "Python 3",
   "language": "python",
   "name": "python3"
  },
  "language_info": {
   "codemirror_mode": {
    "name": "ipython",
    "version": 3
   },
   "file_extension": ".py",
   "mimetype": "text/x-python",
   "name": "python",
   "nbconvert_exporter": "python",
   "pygments_lexer": "ipython3",
   "version": "3.8.8"
  }
 },
 "nbformat": 4,
 "nbformat_minor": 5
}
