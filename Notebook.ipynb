{
 "cells": [
  {
   "cell_type": "code",
   "execution_count": 80,
   "outputs": [],
   "source": [
    "from lyricsgenius import Genius\n",
    "import lyricsmaster as lm\n",
    "import datetime\n",
    "from bs4 import BeautifulSoup\n",
    "import requests\n",
    "import pandas as pd\n",
    "import re"
   ],
   "metadata": {
    "collapsed": false
   }
  },
  {
   "cell_type": "markdown",
   "source": [
    "# Get top 50 rap songs between 2018 and 2022 from billboard website"
   ],
   "metadata": {
    "collapsed": false
   }
  },
  {
   "cell_type": "code",
   "execution_count": 93,
   "outputs": [],
   "source": [
    "def get_top50_from_url(year):\n",
    "    #example = url_start + '2018' + url_end\n",
    "    url_start = 'https://www.billboard.com/charts/year-end/'\n",
    "    url_end = '/hot-rap-songs/'\n",
    "\n",
    "    url = url_start + str(year) + url_end\n",
    "    response = requests.get(url)\n",
    "\n",
    "    soup = BeautifulSoup(response.text, 'html.parser')\n",
    "    results = soup.find_all('div', {'class': 'o-chart-results-list-row-container'})\n",
    "\n",
    "    data = []\n",
    "\n",
    "    for i in range(len(results)):\n",
    "        result = results[i]\n",
    "        title = result.find('h3').text.strip()\n",
    "        spans = result.find_all('span')\n",
    "        artist = spans[1].text.strip()\n",
    "        data.append({'position': i+1, 'title': title, 'artist': artist, 'year': year})\n",
    "\n",
    "    df = pd.DataFrame(data)\n",
    "    return df\n"
   ],
   "metadata": {
    "collapsed": false
   }
  },
  {
   "cell_type": "code",
   "execution_count": 94,
   "outputs": [
    {
     "name": "stderr",
     "output_type": "stream",
     "text": [
      "C:\\Users\\Surface\\AppData\\Local\\Temp\\ipykernel_632\\3513559878.py:4: FutureWarning: The frame.append method is deprecated and will be removed from pandas in a future version. Use pandas.concat instead.\n",
      "  df = df.append(get_top50_from_url(i), ignore_index=True)\n",
      "C:\\Users\\Surface\\AppData\\Local\\Temp\\ipykernel_632\\3513559878.py:4: FutureWarning: The frame.append method is deprecated and will be removed from pandas in a future version. Use pandas.concat instead.\n",
      "  df = df.append(get_top50_from_url(i), ignore_index=True)\n",
      "C:\\Users\\Surface\\AppData\\Local\\Temp\\ipykernel_632\\3513559878.py:4: FutureWarning: The frame.append method is deprecated and will be removed from pandas in a future version. Use pandas.concat instead.\n",
      "  df = df.append(get_top50_from_url(i), ignore_index=True)\n",
      "C:\\Users\\Surface\\AppData\\Local\\Temp\\ipykernel_632\\3513559878.py:4: FutureWarning: The frame.append method is deprecated and will be removed from pandas in a future version. Use pandas.concat instead.\n",
      "  df = df.append(get_top50_from_url(i), ignore_index=True)\n",
      "C:\\Users\\Surface\\AppData\\Local\\Temp\\ipykernel_632\\3513559878.py:4: FutureWarning: The frame.append method is deprecated and will be removed from pandas in a future version. Use pandas.concat instead.\n",
      "  df = df.append(get_top50_from_url(i), ignore_index=True)\n"
     ]
    },
    {
     "data": {
      "text/plain": "  position           title                               artist  year\n0        1      God's Plan                                Drake  2018\n1        2       I Like It        Cardi B, Bad Bunny & J Balvin  2018\n2        3  In My Feelings                                Drake  2018\n3        4          Psycho  Post Malone Featuring Ty Dolla $ign  2018\n4        5   Nice For What                                Drake  2018",
      "text/html": "<div>\n<style scoped>\n    .dataframe tbody tr th:only-of-type {\n        vertical-align: middle;\n    }\n\n    .dataframe tbody tr th {\n        vertical-align: top;\n    }\n\n    .dataframe thead th {\n        text-align: right;\n    }\n</style>\n<table border=\"1\" class=\"dataframe\">\n  <thead>\n    <tr style=\"text-align: right;\">\n      <th></th>\n      <th>position</th>\n      <th>title</th>\n      <th>artist</th>\n      <th>year</th>\n    </tr>\n  </thead>\n  <tbody>\n    <tr>\n      <th>0</th>\n      <td>1</td>\n      <td>God's Plan</td>\n      <td>Drake</td>\n      <td>2018</td>\n    </tr>\n    <tr>\n      <th>1</th>\n      <td>2</td>\n      <td>I Like It</td>\n      <td>Cardi B, Bad Bunny &amp; J Balvin</td>\n      <td>2018</td>\n    </tr>\n    <tr>\n      <th>2</th>\n      <td>3</td>\n      <td>In My Feelings</td>\n      <td>Drake</td>\n      <td>2018</td>\n    </tr>\n    <tr>\n      <th>3</th>\n      <td>4</td>\n      <td>Psycho</td>\n      <td>Post Malone Featuring Ty Dolla $ign</td>\n      <td>2018</td>\n    </tr>\n    <tr>\n      <th>4</th>\n      <td>5</td>\n      <td>Nice For What</td>\n      <td>Drake</td>\n      <td>2018</td>\n    </tr>\n  </tbody>\n</table>\n</div>"
     },
     "execution_count": 94,
     "metadata": {},
     "output_type": "execute_result"
    }
   ],
   "source": [
    "# Get top 50 songs for each year\n",
    "df = pd.DataFrame(columns=['position', 'title', 'artist', 'year'])\n",
    "for i in range(2018,2023):\n",
    "    df = df.append(get_top50_from_url(i), ignore_index=True)\n",
    "\n",
    "df.head()"
   ],
   "metadata": {
    "collapsed": false
   }
  },
  {
   "cell_type": "code",
   "execution_count": 92,
   "outputs": [],
   "source": [
    "# write to csv\n",
    "df.to_csv('top50.csv', index=False)"
   ],
   "metadata": {
    "collapsed": false
   }
  },
  {
   "cell_type": "markdown",
   "source": [
    "# Use lyricsmaster to get lyrics for each song from Genius.com API"
   ],
   "metadata": {
    "collapsed": false
   }
  },
  {
   "cell_type": "code",
   "execution_count": 75,
   "outputs": [],
   "source": [
    "# Authenticate with Genius API\n",
    "genius = Genius('uWk7jiPtIjLiomyfQS1Y6QvB_Aw3EWQr3ODfulXHBKZU1kBWFBzNwJMQ0rbi3Ig6')\n"
   ],
   "metadata": {
    "collapsed": false
   }
  },
  {
   "cell_type": "code",
   "execution_count": null,
   "outputs": [],
   "source": [],
   "metadata": {
    "collapsed": false
   }
  }
 ],
 "metadata": {
  "kernelspec": {
   "display_name": "Python 3",
   "language": "python",
   "name": "python3"
  },
  "language_info": {
   "codemirror_mode": {
    "name": "ipython",
    "version": 2
   },
   "file_extension": ".py",
   "mimetype": "text/x-python",
   "name": "python",
   "nbconvert_exporter": "python",
   "pygments_lexer": "ipython2",
   "version": "2.7.6"
  }
 },
 "nbformat": 4,
 "nbformat_minor": 0
}
