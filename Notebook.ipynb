{
 "cells": [
  {
   "cell_type": "code",
   "execution_count": 108,
   "outputs": [],
   "source": [
    "from lyricsgenius import Genius\n",
    "from bs4 import BeautifulSoup\n",
    "import requests\n",
    "import pandas as pd\n",
    "from itertools import islice\n",
    "import os"
   ],
   "metadata": {
    "collapsed": false
   }
  },
  {
   "cell_type": "markdown",
   "source": [
    "# Get top 50 rap songs between 2018 and 2022 from billboard website"
   ],
   "metadata": {
    "collapsed": false
   }
  },
  {
   "cell_type": "code",
   "execution_count": 109,
   "outputs": [],
   "source": [
    "def get_top50_from_url(year):\n",
    "    #example = url_start + '2018' + url_end\n",
    "    url_start = 'https://www.billboard.com/charts/year-end/'\n",
    "    url_end = '/hot-rap-songs/'\n",
    "\n",
    "    url = url_start + str(year) + url_end\n",
    "    response = requests.get(url)\n",
    "\n",
    "    soup = BeautifulSoup(response.text, 'html.parser')\n",
    "    results = soup.find_all('div', {'class': 'o-chart-results-list-row-container'})\n",
    "\n",
    "    data = []\n",
    "\n",
    "    for i in range(len(results)):\n",
    "        result = results[i]\n",
    "        title = result.find('h3').text.strip()\n",
    "        spans = result.find_all('span')\n",
    "        artist = spans[1].text.strip()\n",
    "        data.append({'position': i+1, 'title': title, 'artist': artist, 'year': year})\n",
    "\n",
    "    df = pd.DataFrame(data)\n",
    "    return df\n"
   ],
   "metadata": {
    "collapsed": false
   }
  },
  {
   "cell_type": "code",
   "execution_count": 110,
   "outputs": [
    {
     "name": "stderr",
     "output_type": "stream",
     "text": [
      "C:\\Users\\Surface\\AppData\\Local\\Temp\\ipykernel_632\\3513559878.py:4: FutureWarning: The frame.append method is deprecated and will be removed from pandas in a future version. Use pandas.concat instead.\n",
      "  df = df.append(get_top50_from_url(i), ignore_index=True)\n",
      "C:\\Users\\Surface\\AppData\\Local\\Temp\\ipykernel_632\\3513559878.py:4: FutureWarning: The frame.append method is deprecated and will be removed from pandas in a future version. Use pandas.concat instead.\n",
      "  df = df.append(get_top50_from_url(i), ignore_index=True)\n",
      "C:\\Users\\Surface\\AppData\\Local\\Temp\\ipykernel_632\\3513559878.py:4: FutureWarning: The frame.append method is deprecated and will be removed from pandas in a future version. Use pandas.concat instead.\n",
      "  df = df.append(get_top50_from_url(i), ignore_index=True)\n",
      "C:\\Users\\Surface\\AppData\\Local\\Temp\\ipykernel_632\\3513559878.py:4: FutureWarning: The frame.append method is deprecated and will be removed from pandas in a future version. Use pandas.concat instead.\n",
      "  df = df.append(get_top50_from_url(i), ignore_index=True)\n",
      "C:\\Users\\Surface\\AppData\\Local\\Temp\\ipykernel_632\\3513559878.py:4: FutureWarning: The frame.append method is deprecated and will be removed from pandas in a future version. Use pandas.concat instead.\n",
      "  df = df.append(get_top50_from_url(i), ignore_index=True)\n"
     ]
    },
    {
     "data": {
      "text/plain": "  position           title                               artist  year\n0        1      God's Plan                                Drake  2018\n1        2       I Like It        Cardi B, Bad Bunny & J Balvin  2018\n2        3  In My Feelings                                Drake  2018\n3        4          Psycho  Post Malone Featuring Ty Dolla $ign  2018\n4        5   Nice For What                                Drake  2018",
      "text/html": "<div>\n<style scoped>\n    .dataframe tbody tr th:only-of-type {\n        vertical-align: middle;\n    }\n\n    .dataframe tbody tr th {\n        vertical-align: top;\n    }\n\n    .dataframe thead th {\n        text-align: right;\n    }\n</style>\n<table border=\"1\" class=\"dataframe\">\n  <thead>\n    <tr style=\"text-align: right;\">\n      <th></th>\n      <th>position</th>\n      <th>title</th>\n      <th>artist</th>\n      <th>year</th>\n    </tr>\n  </thead>\n  <tbody>\n    <tr>\n      <th>0</th>\n      <td>1</td>\n      <td>God's Plan</td>\n      <td>Drake</td>\n      <td>2018</td>\n    </tr>\n    <tr>\n      <th>1</th>\n      <td>2</td>\n      <td>I Like It</td>\n      <td>Cardi B, Bad Bunny &amp; J Balvin</td>\n      <td>2018</td>\n    </tr>\n    <tr>\n      <th>2</th>\n      <td>3</td>\n      <td>In My Feelings</td>\n      <td>Drake</td>\n      <td>2018</td>\n    </tr>\n    <tr>\n      <th>3</th>\n      <td>4</td>\n      <td>Psycho</td>\n      <td>Post Malone Featuring Ty Dolla $ign</td>\n      <td>2018</td>\n    </tr>\n    <tr>\n      <th>4</th>\n      <td>5</td>\n      <td>Nice For What</td>\n      <td>Drake</td>\n      <td>2018</td>\n    </tr>\n  </tbody>\n</table>\n</div>"
     },
     "execution_count": 110,
     "metadata": {},
     "output_type": "execute_result"
    }
   ],
   "source": [
    "# Get top 50 songs for each year\n",
    "df = pd.DataFrame(columns=['position', 'title', 'artist', 'year'])\n",
    "for i in range(2018,2023):\n",
    "    df = df.append(get_top50_from_url(i), ignore_index=True)\n",
    "\n",
    "df.head()"
   ],
   "metadata": {
    "collapsed": false
   }
  },
  {
   "cell_type": "code",
   "execution_count": 111,
   "outputs": [],
   "source": [
    "# write to csv\n",
    "df.to_csv('top50.csv', index=False)"
   ],
   "metadata": {
    "collapsed": false
   }
  },
  {
   "cell_type": "markdown",
   "source": [
    "# Use lyricsmaster to get lyrics for each song from Genius.com API"
   ],
   "metadata": {
    "collapsed": false
   }
  },
  {
   "cell_type": "code",
   "execution_count": 123,
   "outputs": [],
   "source": [
    "def remove_special_chars(file_name):\n",
    "    # Define special characters to remove\n",
    "    special_chars = \"!@#$%^*()[]{};:/<>?\\|`~-=_+’\"\n",
    "\n",
    "    # Remove special characters from file name\n",
    "    new_file_name = ''.join(c for c in file_name if c not in special_chars)\n",
    "\n",
    "    return new_file_name"
   ],
   "metadata": {
    "collapsed": false
   }
  },
  {
   "cell_type": "code",
   "execution_count": null,
   "outputs": [
    {
     "name": "stdout",
     "output_type": "stream",
     "text": [
      "Searching for \"Stir Fry\" by Migos...\n",
      "Done.\n",
      "Wrote song20.json.\n",
      "Searching for \"Nonstop\" by Drake...\n",
      "Done.\n",
      "Wrote song21.json.\n",
      "Searching for \"I Fall Apart\" by Post Malone...\n",
      "Done.\n",
      "Wrote song22.json.\n",
      "Searching for \"Gummo\" by 6ix9ine...\n",
      "Done.\n",
      "Wrote song23.json.\n",
      "Searching for \"Ric Flair Drip\" by Offset & Metro Boomin...\n",
      "Done.\n",
      "Wrote song24.json.\n",
      "Searching for \"This Is America\" by Childish Gambino...\n",
      "Done.\n",
      "Wrote song25.json.\n",
      "Searching for \"Plug Walk\" by Rich The Kid...\n",
      "Done.\n",
      "Wrote song26.json.\n",
      "Searching for \"Be Careful\" by Cardi B...\n",
      "Done.\n",
      "Wrote song27.json.\n",
      "Searching for \"Love.\" by Kendrick Lamar Featuring Zacari...\n",
      "Done.\n",
      "Wrote song28.json.\n",
      "Searching for \"Bartier Cardi\" by Cardi B Featuring 21 Savage...\n",
      "Done.\n",
      "Wrote song29.json.\n",
      "Searching for \"Big Bank\" by YG Featuring 2 Chainz, Big Sean & Nicki Minaj...\n",
      "Done.\n",
      "Wrote song30.json.\n",
      "Searching for \"Plain Jane\" by A$AP Ferg Featuring Nicki Minaj...\n",
      "Done.\n",
      "Wrote song31.json.\n",
      "Searching for \"I Get The Bag\" by Gucci Mane Featuring Migos...\n",
      "Done.\n",
      "Wrote song32.json.\n",
      "Searching for \"Bodak Yellow (Money Moves)\" by Cardi B...\n",
      "Done.\n",
      "Wrote song33.json.\n",
      "Searching for \"Moonlight\" by XXXTENTACION...\n",
      "Request timed out\n",
      "Searching for \"Moonlight\" by XXXTENTACION...\n",
      "Done.\n",
      "Wrote song34.json.\n",
      "Searching for \"Lemon\" by N*E*R*D & Rihanna...\n",
      "Done.\n",
      "Wrote song35.json.\n",
      "Searching for \"I'm Upset\" by Drake...\n",
      "Done.\n",
      "Wrote song36.json.\n",
      "Searching for \"King's Dead\" by Jay Rock, Kendrick Lamar, Future & James Blake...\n",
      "Request timed out\n",
      "Searching for \"King's Dead\" by Jay Rock, Kendrick Lamar, Future & James Blake...\n",
      "Done.\n",
      "Wrote song37.json.\n",
      "Searching for \"Drip Too Hard\" by Lil Baby & Gunna...\n",
      "Done.\n",
      "Wrote song38.json.\n",
      "Searching for \"The Way Life Goes\" by Lil Uzi Vert Featuring Nicki Minaj...\n",
      "Done.\n",
      "Wrote song39.json.\n",
      "Searching for \"Outside Today\" by YoungBoy Never Broke Again...\n",
      "Done.\n",
      "Wrote song40.json.\n",
      "Searching for \"I Love It\" by Kanye West & Lil Pump...\n",
      "Done.\n",
      "Wrote song41.json.\n",
      "Searching for \"Chun-Li\" by Nicki Minaj...\n"
     ]
    }
   ],
   "source": [
    "i = 0\n",
    "def scrape_lyrics():\n",
    "    # Authenticate with Genius API\n",
    "    genius = Genius('uWk7jiPtIjLiomyfQS1Y6QvB_Aw3EWQr3ODfulXHBKZU1kBWFBzNwJMQ0rbi3Ig6')\n",
    "    # create the subdirectory /songs/ if it does not exist\n",
    "    if not os.path.exists('songs'):\n",
    "        os.makedirs('songs')\n",
    "    # read the index.txt file to get the index of the last song that was written to a json file\n",
    "    with open('index.txt', 'r') as f:\n",
    "        i = int(f.read())\n",
    "    # iterate through each row in the dataframe starting at index i\n",
    "    for row,column in islice(df.iterrows(), i, None):\n",
    "        song = genius.search_song(column['title'], column['artist'])\n",
    "        # write the song object to a json file named by the song title and artist name in the folder songs\n",
    "        file_name = 'song' + str(i) + '.json'\n",
    "        # modify the file name to remove all special characters that are not allowed in a file name\n",
    "        file_name = remove_special_chars(file_name)\n",
    "        song.save_lyrics(file_name, overwrite=True)\n",
    "        # move the created json into the /songs/ folder\n",
    "        os.rename(os.getcwd() + '\\\\' + file_name, os.getcwd() + '\\\\' + 'songs' + '\\\\' + file_name)\n",
    "        # write a txt file with the content i and the name index.txt\n",
    "        i += 1\n",
    "        with open('index.txt', 'w') as f:\n",
    "            f.write(str(i))\n",
    "        df.loc[row, 'lyrics'] = song.lyrics\n",
    "\n",
    "while i < len(df):\n",
    "    try:\n",
    "        scrape_lyrics()\n",
    "    except requests.exceptions.Timeout:\n",
    "        print('Request timed out')\n",
    "    except requests.exceptions.RequestException as e:\n",
    "        print('Error:', e)\n"
   ],
   "metadata": {
    "collapsed": false,
    "pycharm": {
     "is_executing": true
    }
   }
  },
  {
   "cell_type": "code",
   "execution_count": null,
   "outputs": [],
   "source": [],
   "metadata": {
    "collapsed": false
   }
  }
 ],
 "metadata": {
  "kernelspec": {
   "display_name": "Python 3",
   "language": "python",
   "name": "python3"
  },
  "language_info": {
   "codemirror_mode": {
    "name": "ipython",
    "version": 2
   },
   "file_extension": ".py",
   "mimetype": "text/x-python",
   "name": "python",
   "nbconvert_exporter": "python",
   "pygments_lexer": "ipython2",
   "version": "2.7.6"
  }
 },
 "nbformat": 4,
 "nbformat_minor": 0
}
