{
 "cells": [
  {
   "cell_type": "code",
   "execution_count": 1,
   "metadata": {},
   "outputs": [],
   "source": [
    "import pandas as pd\n",
    "import re\n",
    "import nltk as nltk\n",
    "from collections import Counter"
   ]
  },
  {
   "cell_type": "code",
   "execution_count": 2,
   "metadata": {},
   "outputs": [
    {
     "data": {
      "text/html": [
       "<div>\n",
       "<style scoped>\n",
       "    .dataframe tbody tr th:only-of-type {\n",
       "        vertical-align: middle;\n",
       "    }\n",
       "\n",
       "    .dataframe tbody tr th {\n",
       "        vertical-align: top;\n",
       "    }\n",
       "\n",
       "    .dataframe thead th {\n",
       "        text-align: right;\n",
       "    }\n",
       "</style>\n",
       "<table border=\"1\" class=\"dataframe\">\n",
       "  <thead>\n",
       "    <tr style=\"text-align: right;\">\n",
       "      <th></th>\n",
       "      <th>position</th>\n",
       "      <th>title</th>\n",
       "      <th>artist</th>\n",
       "      <th>year</th>\n",
       "      <th>Lyrics</th>\n",
       "      <th>Primary Artists</th>\n",
       "    </tr>\n",
       "  </thead>\n",
       "  <tbody>\n",
       "    <tr>\n",
       "      <th>0</th>\n",
       "      <td>1</td>\n",
       "      <td>God's Plan</td>\n",
       "      <td>Drake</td>\n",
       "      <td>2018</td>\n",
       "      <td>And they wishin' and wishin' And wishin' and w...</td>\n",
       "      <td>Drake</td>\n",
       "    </tr>\n",
       "    <tr>\n",
       "      <th>1</th>\n",
       "      <td>2</td>\n",
       "      <td>I Like It</td>\n",
       "      <td>Cardi B, Bad Bunny &amp; J Balvin</td>\n",
       "      <td>2018</td>\n",
       "      <td>Yeah, baby, I like it like that You gotta beli...</td>\n",
       "      <td>Cardi B, Bad Bunny &amp; J Balvin</td>\n",
       "    </tr>\n",
       "    <tr>\n",
       "      <th>2</th>\n",
       "      <td>3</td>\n",
       "      <td>In My Feelings</td>\n",
       "      <td>Drake</td>\n",
       "      <td>2018</td>\n",
       "      <td>Trap, TrapMoneyBenny This shit got me in my fe...</td>\n",
       "      <td>Drake</td>\n",
       "    </tr>\n",
       "    <tr>\n",
       "      <th>3</th>\n",
       "      <td>4</td>\n",
       "      <td>Psycho</td>\n",
       "      <td>Post Malone Featuring Ty Dolla $ign</td>\n",
       "      <td>2018</td>\n",
       "      <td>Damn, my AP goin' psycho, lil' mama bad like M...</td>\n",
       "      <td>Post Malone</td>\n",
       "    </tr>\n",
       "    <tr>\n",
       "      <th>4</th>\n",
       "      <td>5</td>\n",
       "      <td>Nice For What</td>\n",
       "      <td>Drake</td>\n",
       "      <td>2018</td>\n",
       "      <td>I wanna know who mothafuckin' representin' in ...</td>\n",
       "      <td>Drake</td>\n",
       "    </tr>\n",
       "    <tr>\n",
       "      <th>...</th>\n",
       "      <td>...</td>\n",
       "      <td>...</td>\n",
       "      <td>...</td>\n",
       "      <td>...</td>\n",
       "      <td>...</td>\n",
       "      <td>...</td>\n",
       "    </tr>\n",
       "    <tr>\n",
       "      <th>245</th>\n",
       "      <td>46</td>\n",
       "      <td>Already Dead</td>\n",
       "      <td>Juice WRLD</td>\n",
       "      <td>2022</td>\n",
       "      <td>You can see the pain in my laugh (Yeah, yeah) ...</td>\n",
       "      <td>Juice WRLD</td>\n",
       "    </tr>\n",
       "    <tr>\n",
       "      <th>246</th>\n",
       "      <td>47</td>\n",
       "      <td>Family Ties</td>\n",
       "      <td>Baby Keem &amp; Kendrick Lamar</td>\n",
       "      <td>2022</td>\n",
       "      <td>Jump in that— (Hah, Hah), summon that bitch Ju...</td>\n",
       "      <td>Baby Keem &amp; Kendrick Lamar</td>\n",
       "    </tr>\n",
       "    <tr>\n",
       "      <th>247</th>\n",
       "      <td>48</td>\n",
       "      <td>Alone</td>\n",
       "      <td>Rod Wave</td>\n",
       "      <td>2022</td>\n",
       "      <td>B Squared beats Oh (Oh-woah) Oh-woah Tell me w...</td>\n",
       "      <td>Rod Wave</td>\n",
       "    </tr>\n",
       "    <tr>\n",
       "      <th>248</th>\n",
       "      <td>49</td>\n",
       "      <td>Plan B</td>\n",
       "      <td>Megan Thee Stallion</td>\n",
       "      <td>2022</td>\n",
       "      <td>Who the fuck you think you talkin' to, nigga? ...</td>\n",
       "      <td>Megan Thee Stallion</td>\n",
       "    </tr>\n",
       "    <tr>\n",
       "      <th>249</th>\n",
       "      <td>50</td>\n",
       "      <td>Billie Eilish.</td>\n",
       "      <td>Armani White</td>\n",
       "      <td>2022</td>\n",
       "      <td>Bitch, I'm stylish Glock tucked, big t-shirt, ...</td>\n",
       "      <td>Armani White</td>\n",
       "    </tr>\n",
       "  </tbody>\n",
       "</table>\n",
       "<p>250 rows × 6 columns</p>\n",
       "</div>"
      ],
      "text/plain": [
       "     position           title                               artist  year  \\\n",
       "0           1      God's Plan                                Drake  2018   \n",
       "1           2       I Like It        Cardi B, Bad Bunny & J Balvin  2018   \n",
       "2           3  In My Feelings                                Drake  2018   \n",
       "3           4          Psycho  Post Malone Featuring Ty Dolla $ign  2018   \n",
       "4           5   Nice For What                                Drake  2018   \n",
       "..        ...             ...                                  ...   ...   \n",
       "245        46    Already Dead                           Juice WRLD  2022   \n",
       "246        47     Family Ties           Baby Keem & Kendrick Lamar  2022   \n",
       "247        48           Alone                             Rod Wave  2022   \n",
       "248        49          Plan B                  Megan Thee Stallion  2022   \n",
       "249        50  Billie Eilish.                         Armani White  2022   \n",
       "\n",
       "                                                Lyrics  \\\n",
       "0    And they wishin' and wishin' And wishin' and w...   \n",
       "1    Yeah, baby, I like it like that You gotta beli...   \n",
       "2    Trap, TrapMoneyBenny This shit got me in my fe...   \n",
       "3    Damn, my AP goin' psycho, lil' mama bad like M...   \n",
       "4    I wanna know who mothafuckin' representin' in ...   \n",
       "..                                                 ...   \n",
       "245  You can see the pain in my laugh (Yeah, yeah) ...   \n",
       "246  Jump in that— (Hah, Hah), summon that bitch Ju...   \n",
       "247  B Squared beats Oh (Oh-woah) Oh-woah Tell me w...   \n",
       "248  Who the fuck you think you talkin' to, nigga? ...   \n",
       "249  Bitch, I'm stylish Glock tucked, big t-shirt, ...   \n",
       "\n",
       "                   Primary Artists  \n",
       "0                            Drake  \n",
       "1    Cardi B, Bad Bunny & J Balvin  \n",
       "2                            Drake  \n",
       "3                      Post Malone  \n",
       "4                            Drake  \n",
       "..                             ...  \n",
       "245                     Juice WRLD  \n",
       "246     Baby Keem & Kendrick Lamar  \n",
       "247                       Rod Wave  \n",
       "248            Megan Thee Stallion  \n",
       "249                   Armani White  \n",
       "\n",
       "[250 rows x 6 columns]"
      ]
     },
     "execution_count": 2,
     "metadata": {},
     "output_type": "execute_result"
    }
   ],
   "source": [
    "songs_data = pd.read_csv(\"data/top50_2018_2022.csv\")\n",
    "songs_data"
   ]
  },
  {
   "cell_type": "code",
   "execution_count": 3,
   "metadata": {},
   "outputs": [],
   "source": [
    "def preprocess_lyrics(lyrics):\n",
    "    # Remove punctuation\n",
    "    lyrics = re.sub('[^a-zA-Z0-9\\s]', '', lyrics)\n",
    "    # Convert to lowercase\n",
    "    lyrics = lyrics.lower()\n",
    "    # Tokenize into individual words\n",
    "    words = nltk.word_tokenize(lyrics)\n",
    "    return words"
   ]
  },
  {
   "cell_type": "code",
   "execution_count": 8,
   "metadata": {},
   "outputs": [],
   "source": [
    "word_counts = {}\n",
    "for artist, lyrics in songs_data.groupby('Primary Artists')['Lyrics']:\n",
    "    words = []\n",
    "    for lyric in lyrics:\n",
    "        words.extend(preprocess_lyrics(lyric))\n",
    "    word_counts[artist] = Counter(words)"
   ]
  },
  {
   "cell_type": "code",
   "execution_count": 9,
   "metadata": {},
   "outputs": [
    {
     "name": "stdout",
     "output_type": "stream",
     "text": [
      "Drake\n"
     ]
    }
   ],
   "source": [
    "most_unique_artist = max(word_counts, key=lambda x: len(word_counts[x]))\n",
    "print(most_unique_artist)"
   ]
  },
  {
   "cell_type": "code",
   "execution_count": 10,
   "metadata": {},
   "outputs": [
    {
     "name": "stdout",
     "output_type": "stream",
     "text": [
      "1716\n"
     ]
    }
   ],
   "source": [
    "print(len(word_counts[most_unique_artist]))"
   ]
  },
  {
   "cell_type": "code",
   "execution_count": 11,
   "metadata": {},
   "outputs": [
    {
     "name": "stdout",
     "output_type": "stream",
     "text": [
      "7\n",
      "Mc.Dicon\n"
     ]
    }
   ],
   "source": [
    "least_unique_artist = min(word_counts, key=lambda x: len(word_counts[x]))\n",
    "print(len(word_counts[least_unique_artist]))\n",
    "print(least_unique_artist)"
   ]
  },
  {
   "cell_type": "code",
   "execution_count": 9,
   "metadata": {},
   "outputs": [
    {
     "ename": "TypeError",
     "evalue": "unsupported operand type(s) for +: 'int' and 'str'",
     "output_type": "error",
     "traceback": [
      "\u001b[0;31m---------------------------------------------------------------------------\u001b[0m",
      "\u001b[0;31mTypeError\u001b[0m                                 Traceback (most recent call last)",
      "Cell \u001b[0;32mIn[9], line 1\u001b[0m\n\u001b[0;32m----> 1\u001b[0m \u001b[39mprint\u001b[39m(\u001b[39msum\u001b[39;49m(word_counts[most_unique_artist]))\n",
      "\u001b[0;31mTypeError\u001b[0m: unsupported operand type(s) for +: 'int' and 'str'"
     ]
    }
   ],
   "source": [
    "print(sum(word_counts[most_unique_artist]))"
   ]
  },
  {
   "cell_type": "code",
   "execution_count": 10,
   "metadata": {},
   "outputs": [
    {
     "name": "stdout",
     "output_type": "stream",
     "text": [
      "21 Savage: 1796 words\n",
      "Cardi B: 2676 words\n",
      "DaBaby Featuring Roddy Ricch: 3124 words\n",
      "Drake: 5952 words\n",
      "Lil Baby: 5990 words\n"
     ]
    }
   ],
   "source": [
    "word_counts = {}\n",
    "for artist, lyrics in songs_data.groupby('artist')['Lyrics']:\n",
    "    words = []\n",
    "    for lyric in lyrics:\n",
    "        words.extend(lyric.split())\n",
    "    word_counts[artist] = len(words)\n",
    "\n",
    "# Print the total number of words used by each artist\n",
    "maxi = 0\n",
    "for artist, count in word_counts.items():\n",
    "    if count > maxi:\n",
    "        print(f\"{artist}: {count} words\")\n",
    "        maxi = count"
   ]
  },
  {
   "cell_type": "code",
   "execution_count": null,
   "metadata": {},
   "outputs": [],
   "source": [
    "# Line 53\n"
   ]
  }
 ],
 "metadata": {
  "kernelspec": {
   "display_name": "Python 3 (ipykernel)",
   "language": "python",
   "name": "python3"
  },
  "language_info": {
   "codemirror_mode": {
    "name": "ipython",
    "version": 3
   },
   "file_extension": ".py",
   "mimetype": "text/x-python",
   "name": "python",
   "nbconvert_exporter": "python",
   "pygments_lexer": "ipython3",
   "version": "3.11.0"
  }
 },
 "nbformat": 4,
 "nbformat_minor": 2
}
