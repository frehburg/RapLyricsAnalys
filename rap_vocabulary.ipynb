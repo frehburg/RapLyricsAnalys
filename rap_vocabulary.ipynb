{
 "cells": [
  {
   "cell_type": "code",
   "execution_count": 1,
   "metadata": {},
   "outputs": [],
   "source": [
    "import pandas as pd\n",
    "import re\n",
    "import nltk as nltk\n",
    "from collections import Counter\n",
    "import Preprocessing as pre"
   ]
  },
  {
   "cell_type": "code",
   "execution_count": 2,
   "metadata": {},
   "outputs": [
    {
     "name": "stdout",
     "output_type": "stream",
     "text": [
      "     position           title                               artist  year  \\\n",
      "0           1      God's Plan                                Drake  2018   \n",
      "1           2       I Like It        Cardi B, Bad Bunny & J Balvin  2018   \n",
      "2           3  In My Feelings                                Drake  2018   \n",
      "3           4          Psycho  Post Malone Featuring Ty Dolla $ign  2018   \n",
      "4           5   Nice For What                                Drake  2018   \n",
      "..        ...             ...                                  ...   ...   \n",
      "245        46    Already Dead                           Juice WRLD  2022   \n",
      "246        47     Family Ties           Baby Keem & Kendrick Lamar  2022   \n",
      "247        48           Alone                             Rod Wave  2022   \n",
      "248        49          Plan B                  Megan Thee Stallion  2022   \n",
      "249        50  Billie Eilish.                         Armani White  2022   \n",
      "\n",
      "                                                Lyrics  \\\n",
      "0    [And, they, wishin', and, wishin', And, wishin...   \n",
      "1    [Yeah,, baby,, I, like, it, like, that, You, g...   \n",
      "2    [Trap,, TrapMoneyBenny, This, shit, got, me, i...   \n",
      "3    [Damn,, my, AP, goin', psycho,, lil', mama, ba...   \n",
      "4    [I, wanna, know, who, mothafuckin', representi...   \n",
      "..                                                 ...   \n",
      "245  [You, can, see, the, pain, in, my, laugh, (Yea...   \n",
      "246  [Jump, in, that—, (Hah,, Hah),, summon, that, ...   \n",
      "247  [B, Squared, beats, Oh, (Oh-woah), Oh-woah, Te...   \n",
      "248  [Who, the, fuck, you, think, you, talkin', to,...   \n",
      "249  [Bitch,, I'm, stylish, Glock, tucked,, big, t-...   \n",
      "\n",
      "                    Primary Artists  \n",
      "0                           [Drake]  \n",
      "1    [Cardi B, Bad Bunny, J Balvin]  \n",
      "2                           [Drake]  \n",
      "3                     [Post Malone]  \n",
      "4                           [Drake]  \n",
      "..                              ...  \n",
      "245                    [Juice WRLD]  \n",
      "246     [Baby Keem, Kendrick Lamar]  \n",
      "247                      [Rod Wave]  \n",
      "248           [Megan Thee Stallion]  \n",
      "249                  [Armani White]  \n",
      "\n",
      "[250 rows x 6 columns]\n"
     ]
    }
   ],
   "source": [
    "songs_data = pre.create_rap_df()\n",
    "print(songs_data)"
   ]
  },
  {
   "cell_type": "code",
   "execution_count": 20,
   "metadata": {},
   "outputs": [],
   "source": [
    "word_counts_by_artist = pre.create_word_count_dict_grouped(songs_data, artists=True)\n",
    "total_words_by_artist = {}\n",
    "unique_words_by_artist = {}\n",
    "total_word_length_by_artist = {}\n",
    "\n",
    "for artist, word_dict in word_counts_by_artist.items():\n",
    "    total_words_by_artist[artist] = sum(word_dict.values())\n",
    "    unique_words_by_artist[artist] = len(word_dict)\n",
    "\n",
    "    for word, freq in word_dict.items():\n",
    "        if artist in total_word_length_by_artist.keys():\n",
    "            total_word_length_by_artist[artist] += len(word) * freq\n",
    "        else:\n",
    "            total_word_length_by_artist[artist] = len(word) * freq\n",
    "\n",
    "average_word_length_by_artist = {}\n",
    "for artist, tot_len in total_word_length_by_artist.items():\n",
    "    average_word_length_by_artist[artist] = tot_len / total_words_by_artist[artist]"
   ]
  },
  {
   "cell_type": "code",
   "execution_count": 22,
   "metadata": {},
   "outputs": [
    {
     "name": "stdout",
     "output_type": "stream",
     "text": [
      "('21 Savage',): 12442 total length\n",
      "('42 Dugg',): 3274 total length\n",
      "('6LACK',): 2414 total length\n",
      "('6ix9ine',): 5433 total length\n",
      "('A Boogie wit da Hoodie',): 4305 total length\n",
      "('A$AP Ferg',): 2320 total length\n",
      "('ARTZ',): 1366 total length\n",
      "('Alex Aiono',): 1652 total length\n",
      "('Arizona Zervas',): 1694 total length\n",
      "('Armani White',): 1396 total length\n",
      "\n",
      "('21 Savage',): 3.9261596718207636 average length\n",
      "('42 Dugg',): 4.041975308641975 average length\n",
      "('6LACK',): 3.713846153846154 average length\n",
      "('6ix9ine',): 4.069662921348314 average length\n",
      "('A Boogie wit da Hoodie',): 4.0233644859813085 average length\n",
      "('A$AP Ferg',): 4.312267657992565 average length\n",
      "('ARTZ',): 3.6524064171122994 average length\n",
      "('Alex Aiono',): 4.27979274611399 average length\n",
      "('Arizona Zervas',): 4.332480818414322 average length\n",
      "('Armani White',): 4.308641975308642 average length\n"
     ]
    }
   ],
   "source": [
    "i = 0\n",
    "for artist, count in total_word_length_by_artist.items():\n",
    "    i += 1\n",
    "    if i > 10:\n",
    "        break\n",
    "    print(f\"{artist}: {count} total length\")\n",
    "print(\"\")\n",
    "i = 0\n",
    "for artist, count in average_word_length_by_artist.items():\n",
    "    i += 1\n",
    "    if i > 10:\n",
    "        break\n",
    "    print(f\"{artist}: {count} average length\")"
   ]
  },
  {
   "cell_type": "code",
   "execution_count": null,
   "metadata": {},
   "outputs": [],
   "source": []
  }
 ],
 "metadata": {
  "kernelspec": {
   "display_name": "Python 3 (ipykernel)",
   "language": "python",
   "name": "python3"
  },
  "language_info": {
   "codemirror_mode": {
    "name": "ipython",
    "version": 3
   },
   "file_extension": ".py",
   "mimetype": "text/x-python",
   "name": "python",
   "nbconvert_exporter": "python",
   "pygments_lexer": "ipython3",
   "version": "3.11.0"
  }
 },
 "nbformat": 4,
 "nbformat_minor": 2
}
