{
 "cells": [
  {
   "cell_type": "code",
   "execution_count": 10,
   "outputs": [],
   "source": [
    "import pandas as pd\n",
    "import re\n",
    "import nltk\n",
    "from collections import Counter"
   ],
   "metadata": {
    "collapsed": false
   }
  },
  {
   "cell_type": "markdown",
   "source": [
    "# Load data from Kaggle\n",
    "[Link to English Word Frequency Dataset](https://www.kaggle.com/datasets/rtatman/english-word-frequency) on Kaggle"
   ],
   "metadata": {
    "collapsed": false
   }
  },
  {
   "cell_type": "code",
   "execution_count": 11,
   "outputs": [
    {
     "data": {
      "text/plain": "  word        count\n0  the  23135851162\n1   of  13151942776\n2  and  12997637966\n3   to  12136980858\n4    a   9081174698",
      "text/html": "<div>\n<style scoped>\n    .dataframe tbody tr th:only-of-type {\n        vertical-align: middle;\n    }\n\n    .dataframe tbody tr th {\n        vertical-align: top;\n    }\n\n    .dataframe thead th {\n        text-align: right;\n    }\n</style>\n<table border=\"1\" class=\"dataframe\">\n  <thead>\n    <tr style=\"text-align: right;\">\n      <th></th>\n      <th>word</th>\n      <th>count</th>\n    </tr>\n  </thead>\n  <tbody>\n    <tr>\n      <th>0</th>\n      <td>the</td>\n      <td>23135851162</td>\n    </tr>\n    <tr>\n      <th>1</th>\n      <td>of</td>\n      <td>13151942776</td>\n    </tr>\n    <tr>\n      <th>2</th>\n      <td>and</td>\n      <td>12997637966</td>\n    </tr>\n    <tr>\n      <th>3</th>\n      <td>to</td>\n      <td>12136980858</td>\n    </tr>\n    <tr>\n      <th>4</th>\n      <td>a</td>\n      <td>9081174698</td>\n    </tr>\n  </tbody>\n</table>\n</div>"
     },
     "execution_count": 11,
     "metadata": {},
     "output_type": "execute_result"
    }
   ],
   "source": [
    "english_words = pd.read_csv('data/english-words-freq.csv')\n",
    "english_words.head()"
   ],
   "metadata": {
    "collapsed": false
   }
  },
  {
   "cell_type": "markdown",
   "source": [
    "# Load in Rap Lyrics data\n",
    "This is the data set we scraped ourselves"
   ],
   "metadata": {
    "collapsed": false
   }
  },
  {
   "cell_type": "code",
   "execution_count": 12,
   "outputs": [
    {
     "data": {
      "text/plain": "     word  count  swearword\n0     and   1978      False\n1    they    912      False\n2  wishin     30      False\n3      on   1903      False\n4      me   2294      False",
      "text/html": "<div>\n<style scoped>\n    .dataframe tbody tr th:only-of-type {\n        vertical-align: middle;\n    }\n\n    .dataframe tbody tr th {\n        vertical-align: top;\n    }\n\n    .dataframe thead th {\n        text-align: right;\n    }\n</style>\n<table border=\"1\" class=\"dataframe\">\n  <thead>\n    <tr style=\"text-align: right;\">\n      <th></th>\n      <th>word</th>\n      <th>count</th>\n      <th>swearword</th>\n    </tr>\n  </thead>\n  <tbody>\n    <tr>\n      <th>0</th>\n      <td>and</td>\n      <td>1978</td>\n      <td>False</td>\n    </tr>\n    <tr>\n      <th>1</th>\n      <td>they</td>\n      <td>912</td>\n      <td>False</td>\n    </tr>\n    <tr>\n      <th>2</th>\n      <td>wishin</td>\n      <td>30</td>\n      <td>False</td>\n    </tr>\n    <tr>\n      <th>3</th>\n      <td>on</td>\n      <td>1903</td>\n      <td>False</td>\n    </tr>\n    <tr>\n      <th>4</th>\n      <td>me</td>\n      <td>2294</td>\n      <td>False</td>\n    </tr>\n  </tbody>\n</table>\n</div>"
     },
     "execution_count": 12,
     "metadata": {},
     "output_type": "execute_result"
    }
   ],
   "source": [
    "rap_words = pd.read_csv('data/rap-words-freq.csv')\n",
    "# rename the word column into index and index into word\n",
    "rap_words = rap_words.rename(columns={'word': 'index', 'index': 'word'})\n",
    "# drop the index column\n",
    "rap_words = rap_words.drop(columns=['index'])\n",
    "rap_words.head()"
   ],
   "metadata": {
    "collapsed": false
   }
  },
  {
   "cell_type": "markdown",
   "source": [
    "# Clean up the data and apply preprocessing"
   ],
   "metadata": {
    "collapsed": false
   }
  },
  {
   "cell_type": "code",
   "execution_count": 13,
   "outputs": [],
   "source": [
    "def preprocess(df):\n",
    "    return df"
   ],
   "metadata": {
    "collapsed": false
   }
  },
  {
   "cell_type": "code",
   "execution_count": 14,
   "outputs": [],
   "source": [
    "english_words = preprocess(english_words)"
   ],
   "metadata": {
    "collapsed": false
   }
  },
  {
   "cell_type": "markdown",
   "source": [],
   "metadata": {
    "collapsed": false
   }
  }
 ],
 "metadata": {
  "kernelspec": {
   "display_name": "Python 3",
   "language": "python",
   "name": "python3"
  },
  "language_info": {
   "codemirror_mode": {
    "name": "ipython",
    "version": 2
   },
   "file_extension": ".py",
   "mimetype": "text/x-python",
   "name": "python",
   "nbconvert_exporter": "python",
   "pygments_lexer": "ipython2",
   "version": "2.7.6"
  }
 },
 "nbformat": 4,
 "nbformat_minor": 0
}
